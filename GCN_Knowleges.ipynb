{
 "cells": [
  {
   "cell_type": "code",
   "execution_count": 5,
   "id": "4e49a328",
   "metadata": {},
   "outputs": [
    {
     "data": {
      "image/png": "[encoded data removed]",
      "text/plain": [
       "<Figure size 640x480 with 1 Axes>"
      ]
     },
     "metadata": {},
     "output_type": "display_data"
    }
   ],
   "source": [
    "from platform import node\n",
    "import networkx as nx\n",
    "import matplotlib.pyplot as plt\n",
    "\n",
    "G=nx.Graph()\n",
    "\n",
    "nodes=['A','B','C','D','E']\n",
    "G.add_nodes_from(nodes)\n",
    "\n",
    "edges=[('A', 'E'), ('B', 'E'), ('B', 'D'), ('C', 'D'), ('C', 'E'), ('D', 'E')]\n",
    "G.add_edges_from(edges)\n",
    "\n",
    "pos=nx.spring_layout(G)\n",
    "nx.draw(G,pos,with_labels=True,font_weight=\"bold\",node_size=700,node_color=\"skyblue\",font_size=10, edge_color=\"gray\")\n"
   ]
  },
  {
   "cell_type": "code",
   "execution_count": 7,
   "id": "51a18549",
   "metadata": {},
   "outputs": [
    {
     "name": "stdout",
     "output_type": "stream",
     "text": [
      "[[0 0 0 0 1]\n",
      " [0 0 0 1 1]\n",
      " [0 0 0 1 1]\n",
      " [0 1 1 0 1]\n",
      " [1 1 1 1 0]]\n",
      "[[1 0 0 0 0]\n",
      " [0 2 0 0 0]\n",
      " [0 0 2 0 0]\n",
      " [0 0 0 3 0]\n",
      " [0 0 0 0 4]]\n"
     ]
    }
   ],
   "source": [
    "import numpy as np\n",
    "adj_matrix=nx.adjacency_matrix(G)\n",
    "\n",
    "degree_matrix=np.diag(list(dict(G.degree).values()))\n",
    "\n",
    "print(adj_matrix.toarray())\n",
    "\n",
    "print(degree_matrix)"
   ]
  },
  {
   "cell_type": "code",
   "execution_count": 9,
   "id": "519fd843",
   "metadata": {},
   "outputs": [
    {
     "name": "stdout",
     "output_type": "stream",
     "text": [
      "邻接矩阵:\n",
      "[[1 0 0 0 1]\n",
      " [0 1 0 1 1]\n",
      " [0 0 1 1 1]\n",
      " [0 1 1 1 1]\n",
      " [1 1 1 1 1]]\n",
      "\n",
      "度矩阵:\n",
      "[[3 0 0 0 0]\n",
      " [0 4 0 0 0]\n",
      " [0 0 4 0 0]\n",
      " [0 0 0 5 0]\n",
      " [0 0 0 0 6]]\n"
     ]
    }
   ],
   "source": [
    "for node in nodes:\n",
    "    G.add_edge(node,node)\n",
    "\n",
    "\n",
    "adj_matrix=nx.adjacency_matrix(G)\n",
    "\n",
    "degree_matrix=np.diag(list(dict(G.degree()).values()))\n",
    "\n",
    "print(\"邻接矩阵:\")\n",
    "print(adj_matrix.toarray())\n",
    "\n",
    "print(\"\\n度矩阵:\")\n",
    "print(degree_matrix)"
   ]
  },
  {
   "cell_type": "code",
   "execution_count": 10,
   "id": "a03fffc0",
   "metadata": {},
   "outputs": [
    {
     "name": "stdout",
     "output_type": "stream",
     "text": [
      "[[1 0 0 0 1]\n",
      " [0 1 0 1 1]\n",
      " [0 0 1 1 1]\n",
      " [0 1 1 1 1]\n",
      " [1 1 1 1 1]]\n",
      "[[2 0 0 0 0]\n",
      " [0 3 0 0 0]\n",
      " [0 0 3 0 0]\n",
      " [0 0 0 4 0]\n",
      " [0 0 0 0 5]]\n"
     ]
    }
   ],
   "source": [
    "A_title=adj_matrix.toarray()\n",
    "D_title=np.diag(np.array(list(dict(G.degree()).values()))-1)\n",
    "\n",
    "print(A_title)\n",
    "print(D_title)\n",
    "\n"
   ]
  },
  {
   "cell_type": "code",
   "execution_count": 13,
   "id": "0c2c42aa",
   "metadata": {},
   "outputs": [
    {
     "data": {
      "text/plain": [
       "array([[0.5       , 0.        , 0.        , 0.        , 0.        ],\n",
       "       [0.        , 0.33333333, 0.        , 0.        , 0.        ],\n",
       "       [0.        , 0.        , 0.33333333, 0.        , 0.        ],\n",
       "       [0.        , 0.        , 0.        , 0.25      , 0.        ],\n",
       "       [0.        , 0.        , 0.        , 0.        , 0.2       ]])"
      ]
     },
     "execution_count": 13,
     "metadata": {},
     "output_type": "execute_result"
    }
   ],
   "source": [
    "np.linalg.inv(D_title)"
   ]
  },
  {
   "cell_type": "code",
   "execution_count": 14,
   "id": "31dfa256",
   "metadata": {},
   "outputs": [
    {
     "data": {
      "text/plain": [
       "array([[0.5       , 0.        , 0.        , 0.        , 0.5       ],\n",
       "       [0.        , 0.33333333, 0.        , 0.33333333, 0.33333333],\n",
       "       [0.        , 0.        , 0.33333333, 0.33333333, 0.33333333],\n",
       "       [0.        , 0.25      , 0.25      , 0.25      , 0.25      ],\n",
       "       [0.2       , 0.2       , 0.2       , 0.2       , 0.2       ]])"
      ]
     },
     "execution_count": 14,
     "metadata": {},
     "output_type": "execute_result"
    }
   ],
   "source": [
    "np.linalg.inv(D_title)@A_title"
   ]
  },
  {
   "cell_type": "code",
   "execution_count": 15,
   "id": "d8f95a36",
   "metadata": {},
   "outputs": [
    {
     "data": {
      "text/plain": [
       "array([[0.25      , 0.        , 0.        , 0.        , 0.1       ],\n",
       "       [0.        , 0.11111111, 0.        , 0.08333333, 0.06666667],\n",
       "       [0.        , 0.        , 0.11111111, 0.08333333, 0.06666667],\n",
       "       [0.        , 0.08333333, 0.08333333, 0.0625    , 0.05      ],\n",
       "       [0.1       , 0.06666667, 0.06666667, 0.05      , 0.04      ]])"
      ]
     },
     "execution_count": 15,
     "metadata": {},
     "output_type": "execute_result"
    }
   ],
   "source": [
    "np.linalg.inv(D_title)@A_title@np.linalg.inv(D_title)"
   ]
  },
  {
   "cell_type": "code",
   "execution_count": 16,
   "id": "f340da54",
   "metadata": {},
   "outputs": [
    {
     "data": {
      "text/plain": [
       "array([[0.5       , 0.        , 0.        , 0.        , 0.31622777],\n",
       "       [0.        , 0.33333333, 0.        , 0.28867513, 0.25819889],\n",
       "       [0.        , 0.        , 0.33333333, 0.28867513, 0.25819889],\n",
       "       [0.        , 0.28867513, 0.28867513, 0.25      , 0.2236068 ],\n",
       "       [0.31622777, 0.25819889, 0.25819889, 0.2236068 , 0.2       ]])"
      ]
     },
     "execution_count": 16,
     "metadata": {},
     "output_type": "execute_result"
    }
   ],
   "source": [
    "np.linalg.inv(np.sqrt(D_title))@A_title@np.linalg.inv(np.sqrt(D_title))"
   ]
  }
 ],
 "metadata": {
  "kernelspec": {
   "display_name": "GNN_pytorch",
   "language": "python",
   "name": "python3"
  },
  "language_info": {
   "codemirror_mode": {
    "name": "ipython",
    "version": 3
   },
   "file_extension": ".py",
   "mimetype": "text/x-python",
   "name": "python",
   "nbconvert_exporter": "python",
   "pygments_lexer": "ipython3",
   "version": "3.8.20"
  }
 },
 "nbformat": 4,
 "nbformat_minor": 5
}
