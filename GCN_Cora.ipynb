{
 "cells": [
  {
   "cell_type": "code",
   "execution_count": 1,
   "id": "5472725d",
   "metadata": {},
   "outputs": [
    {
     "name": "stdout",
     "output_type": "stream",
     "text": [
      "1.13.1+cu116\n",
      "2.1.0\n"
     ]
    }
   ],
   "source": [
    "import torch\n",
    "import torch_geometric\n",
    "\n",
    "print(torch.__version__)\n",
    "print(torch_geometric.__version__)"
   ]
  },
  {
   "cell_type": "code",
   "execution_count": null,
   "id": "b66c6b61",
   "metadata": {},
   "outputs": [
    {
     "name": "stdout",
     "output_type": "stream",
     "text": [
      "tensor([[0.0000, 0.3333, 0.6667],\n",
      "        [0.2222, 0.3333, 0.4444],\n",
      "        [0.2500, 0.3125, 0.4375]])\n"
     ]
    }
   ],
   "source": [
    "from matplotlib import transforms\n",
    "from torch import long\n",
    "from torch_geometric.data import Data\n",
    "from torch_geometric.transforms import NormalizeFeatures\n",
    "\n",
    "edge_index=torch.tensor([\n",
    "    [0,1,1,2],\n",
    "    [1,0,2,1]],\n",
    "    dtype=torch.long)\n",
    "\n",
    "x=torch.torch.tensor([\n",
    "    [1.0,2.0,3.0],\n",
    "    [3.0,4.0,5.0],\n",
    "    [5.0,6.0,8.0]],\n",
    "    dtype=torch.float)\n",
    "\n",
    "data=Data(x=x,edge_index=edge_index)\n",
    "\n",
    "transform=NormalizeFeatures()\n",
    "data=transform(data)\n",
    "\n",
    "print(data.x)"
   ]
  },
  {
   "cell_type": "code",
   "execution_count": 6,
   "id": "81224c48",
   "metadata": {},
   "outputs": [
    {
     "name": "stderr",
     "output_type": "stream",
     "text": [
      "Downloading https://github.com/kimiyoung/planetoid/raw/master/data/ind.cora.x\n",
      "Downloading https://github.com/kimiyoung/planetoid/raw/master/data/ind.cora.tx\n",
      "Downloading https://github.com/kimiyoung/planetoid/raw/master/data/ind.cora.allx\n",
      "Downloading https://github.com/kimiyoung/planetoid/raw/master/data/ind.cora.y\n",
      "Downloading https://github.com/kimiyoung/planetoid/raw/master/data/ind.cora.ty\n",
      "Downloading https://github.com/kimiyoung/planetoid/raw/master/data/ind.cora.ally\n",
      "Downloading https://github.com/kimiyoung/planetoid/raw/master/data/ind.cora.graph\n",
      "Downloading https://github.com/kimiyoung/planetoid/raw/master/data/ind.cora.test.index\n",
      "Processing...\n"
     ]
    },
    {
     "name": "stdout",
     "output_type": "stream",
     "text": [
      "DatesetCora()\n",
      "number of graph1\n",
      "number of features1433\n",
      "number of classes7\n",
      "\n",
      "Data(x=[2708, 1433], edge_index=[2, 10556], y=[2708], train_mask=[2708], val_mask=[2708], test_mask=[2708])\n",
      "************************************************************\n"
     ]
    },
    {
     "name": "stderr",
     "output_type": "stream",
     "text": [
      "Done!\n"
     ]
    }
   ],
   "source": [
    "from torch_geometric.datasets import Planetoid\n",
    "from torch_geometric.transforms import NormalizeFeatures\n",
    "\n",
    "dataset=Planetoid(root=\"data/Planetoid\",name=\"Cora\",transform=NormalizeFeatures())\n",
    "\n",
    "print(f\"Dateset{dataset}\")\n",
    "print(f\"number of graph{len(dataset)}\")\n",
    "print(f\"number of features{dataset.num_features}\")\n",
    "print(f\"number of classes{dataset.num_classes}\")\n",
    "\n",
    "data=dataset[0]\n",
    "print()\n",
    "print(data)\n",
    "print(\"**\"*30)"
   ]
  },
  {
   "cell_type": "code",
   "execution_count": 8,
   "id": "75355c4d",
   "metadata": {},
   "outputs": [
    {
     "name": "stdout",
     "output_type": "stream",
     "text": [
      "number of nodes: 2708\n",
      "number of :10556\n",
      "average node degree :3.8980797636632203\n",
      "number of training nodes140\n",
      "Training node label rate0.051698670605613\n",
      "Has isolated nodes:False\n",
      "Has self-loops: False\n",
      "Is undirected: True\n"
     ]
    }
   ],
   "source": [
    "print(f\"number of nodes: {data.num_nodes}\")\n",
    "print(f\"number of :{data.num_edges}\")\n",
    "print(f\"average node degree :{data.num_edges/data.num_nodes}\")\n",
    "print(f\"number of training nodes{data.train_mask.sum()}\")\n",
    "print(f\"Training node label rate{int(data.train_mask.sum())/data.num_nodes}\")\n",
    "print(f'Has isolated nodes:{data.has_isolated_nodes()}')\n",
    "print(f'Has self-loops: {data.has_self_loops()}')\n",
    "print(f'Is undirected: {data.is_undirected()}')\n"
   ]
  },
  {
   "cell_type": "code",
   "execution_count": 9,
   "id": "331ff799",
   "metadata": {},
   "outputs": [
    {
     "name": "stdout",
     "output_type": "stream",
     "text": [
      "torch.Size([2708, 1433])\n"
     ]
    },
    {
     "data": {
      "text/plain": [
       "tensor([0.0000, 0.0000, 0.0000, 0.0000, 0.0000, 0.0000, 0.0000, 0.0000, 0.0000,\n",
       "        0.0000, 0.0000, 0.0000, 0.0000, 0.0000, 0.0000, 0.0000, 0.0000, 0.0000,\n",
       "        0.0000, 0.0435, 0.0000, 0.0000, 0.0000, 0.0000, 0.0000, 0.0000, 0.0000,\n",
       "        0.0000, 0.0000, 0.0000, 0.0000, 0.0000, 0.0000, 0.0000, 0.0000, 0.0000,\n",
       "        0.0000, 0.0000, 0.0000, 0.0000, 0.0000, 0.0000, 0.0000, 0.0000, 0.0000,\n",
       "        0.0000, 0.0000, 0.0000, 0.0000, 0.0000, 0.0000, 0.0000, 0.0000, 0.0000,\n",
       "        0.0000, 0.0000, 0.0000, 0.0000, 0.0000, 0.0000, 0.0000, 0.0000, 0.0000,\n",
       "        0.0000, 0.0000, 0.0000, 0.0000, 0.0000, 0.0000, 0.0000, 0.0000, 0.0000,\n",
       "        0.0000, 0.0000, 0.0000, 0.0000, 0.0000, 0.0000, 0.0000, 0.0000, 0.0000,\n",
       "        0.0000, 0.0000, 0.0000, 0.0000, 0.0000, 0.0000, 0.0000, 0.0435, 0.0000,\n",
       "        0.0000, 0.0000, 0.0000, 0.0000, 0.0000, 0.0000, 0.0000, 0.0000, 0.0000,\n",
       "        0.0000, 0.0000, 0.0000, 0.0000, 0.0000, 0.0000, 0.0000, 0.0000, 0.0000,\n",
       "        0.0000, 0.0000, 0.0000, 0.0000, 0.0000, 0.0000, 0.0000, 0.0000, 0.0000,\n",
       "        0.0000, 0.0000, 0.0000, 0.0000, 0.0000, 0.0000, 0.0000, 0.0000, 0.0000,\n",
       "        0.0000, 0.0000, 0.0000, 0.0000, 0.0000, 0.0000, 0.0000, 0.0000, 0.0000,\n",
       "        0.0000, 0.0000, 0.0000, 0.0000, 0.0000, 0.0000, 0.0000, 0.0000, 0.0000,\n",
       "        0.0000, 0.0000, 0.0000, 0.0000, 0.0000, 0.0435, 0.0000, 0.0000, 0.0000,\n",
       "        0.0000, 0.0000, 0.0000, 0.0000, 0.0000, 0.0000, 0.0000, 0.0000, 0.0000,\n",
       "        0.0000, 0.0000, 0.0000, 0.0000, 0.0000, 0.0000, 0.0000, 0.0000, 0.0000,\n",
       "        0.0000, 0.0000, 0.0000, 0.0000, 0.0000, 0.0000, 0.0000, 0.0000, 0.0000,\n",
       "        0.0000, 0.0000, 0.0000, 0.0000, 0.0000, 0.0000, 0.0000, 0.0000, 0.0000,\n",
       "        0.0000, 0.0000, 0.0000, 0.0000, 0.0000, 0.0000, 0.0000, 0.0000, 0.0000,\n",
       "        0.0000, 0.0000, 0.0000, 0.0000, 0.0000, 0.0000, 0.0000, 0.0000, 0.0000,\n",
       "        0.0000, 0.0000, 0.0000, 0.0000, 0.0000, 0.0435, 0.0000, 0.0000, 0.0000,\n",
       "        0.0000, 0.0000, 0.0000, 0.0000, 0.0000, 0.0000, 0.0000, 0.0000, 0.0000,\n",
       "        0.0000, 0.0000, 0.0000, 0.0000, 0.0000, 0.0000, 0.0000, 0.0000, 0.0435,\n",
       "        0.0000, 0.0000, 0.0000, 0.0000, 0.0000, 0.0000, 0.0000, 0.0000, 0.0000,\n",
       "        0.0000, 0.0000, 0.0000, 0.0000, 0.0000, 0.0000, 0.0000, 0.0000, 0.0000,\n",
       "        0.0000, 0.0000, 0.0000, 0.0000, 0.0000, 0.0000, 0.0000, 0.0000, 0.0000,\n",
       "        0.0000, 0.0000, 0.0000, 0.0000, 0.0000, 0.0000, 0.0000, 0.0000, 0.0000,\n",
       "        0.0000, 0.0000, 0.0000, 0.0000, 0.0000, 0.0000, 0.0000, 0.0000, 0.0000,\n",
       "        0.0000, 0.0000, 0.0000, 0.0000, 0.0000, 0.0000, 0.0000, 0.0000, 0.0000,\n",
       "        0.0000, 0.0000, 0.0000, 0.0000, 0.0000, 0.0000, 0.0000, 0.0000, 0.0000,\n",
       "        0.0000, 0.0000, 0.0000, 0.0000, 0.0000, 0.0000, 0.0000, 0.0000, 0.0000,\n",
       "        0.0000, 0.0000, 0.0000, 0.0000, 0.0000, 0.0000, 0.0000, 0.0000, 0.0000,\n",
       "        0.0000, 0.0000, 0.0000, 0.0000, 0.0000, 0.0000, 0.0000, 0.0000, 0.0000,\n",
       "        0.0000, 0.0000, 0.0000, 0.0000, 0.0000, 0.0000, 0.0000, 0.0000, 0.0435,\n",
       "        0.0000, 0.0000, 0.0000, 0.0435, 0.0000, 0.0000, 0.0000, 0.0000, 0.0000,\n",
       "        0.0000, 0.0000, 0.0000, 0.0000, 0.0000, 0.0000, 0.0000, 0.0000, 0.0000,\n",
       "        0.0000, 0.0000, 0.0000, 0.0000, 0.0000, 0.0000, 0.0000, 0.0000, 0.0435,\n",
       "        0.0000, 0.0000, 0.0000, 0.0000, 0.0000, 0.0000, 0.0000, 0.0000, 0.0000,\n",
       "        0.0000, 0.0000, 0.0000, 0.0000, 0.0000, 0.0000, 0.0000, 0.0000, 0.0000,\n",
       "        0.0000, 0.0000, 0.0000, 0.0000, 0.0000, 0.0000, 0.0000, 0.0000, 0.0000,\n",
       "        0.0000, 0.0000, 0.0000, 0.0000, 0.0000, 0.0000, 0.0000, 0.0000, 0.0000,\n",
       "        0.0000, 0.0000, 0.0000, 0.0000, 0.0000, 0.0000, 0.0000, 0.0000, 0.0000,\n",
       "        0.0000, 0.0000, 0.0000, 0.0000, 0.0000, 0.0000, 0.0000, 0.0000, 0.0000,\n",
       "        0.0000, 0.0000, 0.0000, 0.0000, 0.0000, 0.0000, 0.0000, 0.0000, 0.0000,\n",
       "        0.0000, 0.0000, 0.0000, 0.0000, 0.0000, 0.0000, 0.0000, 0.0000, 0.0000,\n",
       "        0.0000, 0.0000, 0.0000, 0.0000, 0.0000, 0.0000, 0.0000, 0.0000, 0.0000,\n",
       "        0.0000, 0.0000, 0.0000, 0.0000, 0.0000, 0.0000, 0.0000, 0.0000, 0.0000,\n",
       "        0.0000, 0.0000, 0.0000, 0.0000, 0.0000, 0.0000, 0.0000, 0.0000, 0.0000,\n",
       "        0.0000, 0.0000, 0.0000, 0.0000, 0.0000, 0.0000, 0.0000, 0.0000, 0.0000,\n",
       "        0.0000, 0.0000, 0.0000, 0.0000, 0.0435, 0.0000, 0.0000, 0.0000, 0.0000,\n",
       "        0.0000, 0.0000, 0.0000, 0.0000, 0.0000, 0.0000, 0.0000, 0.0000, 0.0000,\n",
       "        0.0000, 0.0000, 0.0000, 0.0000, 0.0000, 0.0000, 0.0000, 0.0000, 0.0000,\n",
       "        0.0000, 0.0000, 0.0000, 0.0000, 0.0000, 0.0000, 0.0000, 0.0000, 0.0000,\n",
       "        0.0000, 0.0000, 0.0000, 0.0435, 0.0000, 0.0000, 0.0000, 0.0000, 0.0000,\n",
       "        0.0000, 0.0000, 0.0000, 0.0000, 0.0000, 0.0000, 0.0000, 0.0000, 0.0000,\n",
       "        0.0000, 0.0000, 0.0000, 0.0000, 0.0000, 0.0000, 0.0000, 0.0000, 0.0000,\n",
       "        0.0000, 0.0000, 0.0000, 0.0000, 0.0000, 0.0000, 0.0000, 0.0000, 0.0000,\n",
       "        0.0000, 0.0000, 0.0000, 0.0000, 0.0000, 0.0000, 0.0000, 0.0000, 0.0435,\n",
       "        0.0000, 0.0000, 0.0000, 0.0000, 0.0000, 0.0000, 0.0000, 0.0000, 0.0000,\n",
       "        0.0000, 0.0000, 0.0000, 0.0000, 0.0000, 0.0000, 0.0000, 0.0000, 0.0000,\n",
       "        0.0000, 0.0000, 0.0000, 0.0000, 0.0000, 0.0000, 0.0000, 0.0000, 0.0000,\n",
       "        0.0000, 0.0000, 0.0000, 0.0000, 0.0000, 0.0000, 0.0000, 0.0000, 0.0000,\n",
       "        0.0000, 0.0000, 0.0000, 0.0000, 0.0000, 0.0000, 0.0000, 0.0000, 0.0000,\n",
       "        0.0000, 0.0000, 0.0000, 0.0000, 0.0000, 0.0000, 0.0000, 0.0000, 0.0000,\n",
       "        0.0000, 0.0000, 0.0000, 0.0000, 0.0000, 0.0000, 0.0000, 0.0000, 0.0000,\n",
       "        0.0000, 0.0000, 0.0000, 0.0000, 0.0000, 0.0000, 0.0000, 0.0000, 0.0000,\n",
       "        0.0000, 0.0000, 0.0000, 0.0000, 0.0000, 0.0000, 0.0000, 0.0000, 0.0000,\n",
       "        0.0000, 0.0000, 0.0000, 0.0000, 0.0000, 0.0000, 0.0000, 0.0000, 0.0000,\n",
       "        0.0000, 0.0000, 0.0000, 0.0000, 0.0000, 0.0000, 0.0000, 0.0000, 0.0000,\n",
       "        0.0000, 0.0000, 0.0000, 0.0000, 0.0000, 0.0000, 0.0000, 0.0000, 0.0000,\n",
       "        0.0000, 0.0000, 0.0000, 0.0000, 0.0000, 0.0000, 0.0000, 0.0000, 0.0000,\n",
       "        0.0000, 0.0000, 0.0000, 0.0000, 0.0000, 0.0000, 0.0000, 0.0000, 0.0000,\n",
       "        0.0000, 0.0000, 0.0000, 0.0000, 0.0000, 0.0000, 0.0000, 0.0000, 0.0000,\n",
       "        0.0000, 0.0000, 0.0000, 0.0435, 0.0000, 0.0000, 0.0000, 0.0000, 0.0000,\n",
       "        0.0000, 0.0000, 0.0000, 0.0000, 0.0000, 0.0000, 0.0000, 0.0000, 0.0000,\n",
       "        0.0000, 0.0000, 0.0000, 0.0000, 0.0000, 0.0000, 0.0000, 0.0000, 0.0000,\n",
       "        0.0000, 0.0000, 0.0000, 0.0000, 0.0000, 0.0000, 0.0000, 0.0000, 0.0000,\n",
       "        0.0000, 0.0000, 0.0000, 0.0000, 0.0000, 0.0000, 0.0000, 0.0000, 0.0000,\n",
       "        0.0000, 0.0000, 0.0000, 0.0000, 0.0000, 0.0000, 0.0000, 0.0000, 0.0000,\n",
       "        0.0000, 0.0000, 0.0000, 0.0000, 0.0000, 0.0000, 0.0000, 0.0000, 0.0000,\n",
       "        0.0000, 0.0000, 0.0000, 0.0000, 0.0000, 0.0000, 0.0000, 0.0000, 0.0000,\n",
       "        0.0000, 0.0000, 0.0000, 0.0000, 0.0000, 0.0000, 0.0000, 0.0435, 0.0000,\n",
       "        0.0000, 0.0000, 0.0000, 0.0000, 0.0000, 0.0000, 0.0000, 0.0000, 0.0000,\n",
       "        0.0000, 0.0000, 0.0000, 0.0000, 0.0000, 0.0000, 0.0000, 0.0000, 0.0000,\n",
       "        0.0000, 0.0000, 0.0000, 0.0000, 0.0000, 0.0000, 0.0000, 0.0000, 0.0000,\n",
       "        0.0000, 0.0000, 0.0000, 0.0000, 0.0000, 0.0000, 0.0000, 0.0000, 0.0000,\n",
       "        0.0000, 0.0000, 0.0000, 0.0000, 0.0000, 0.0000, 0.0000, 0.0435, 0.0000,\n",
       "        0.0000, 0.0000, 0.0000, 0.0000, 0.0000, 0.0000, 0.0000, 0.0000, 0.0000,\n",
       "        0.0000, 0.0000, 0.0000, 0.0000, 0.0000, 0.0000, 0.0000, 0.0000, 0.0000,\n",
       "        0.0000, 0.0000, 0.0000, 0.0000, 0.0000, 0.0000, 0.0000, 0.0000, 0.0000,\n",
       "        0.0000, 0.0000, 0.0000, 0.0000, 0.0000, 0.0000, 0.0000, 0.0000, 0.0000,\n",
       "        0.0000, 0.0000, 0.0000, 0.0000, 0.0000, 0.0000, 0.0000, 0.0000, 0.0000,\n",
       "        0.0000, 0.0000, 0.0000, 0.0000, 0.0000, 0.0000, 0.0000, 0.0000, 0.0000,\n",
       "        0.0000, 0.0000, 0.0000, 0.0000, 0.0000, 0.0000, 0.0000, 0.0000, 0.0000,\n",
       "        0.0000, 0.0000, 0.0000, 0.0000, 0.0000, 0.0000, 0.0000, 0.0000, 0.0000,\n",
       "        0.0000, 0.0000, 0.0000, 0.0000, 0.0000, 0.0000, 0.0000, 0.0435, 0.0000,\n",
       "        0.0000, 0.0000, 0.0000, 0.0000, 0.0000, 0.0000, 0.0000, 0.0000, 0.0000,\n",
       "        0.0000, 0.0000, 0.0000, 0.0000, 0.0000, 0.0000, 0.0000, 0.0000, 0.0000,\n",
       "        0.0000, 0.0000, 0.0000, 0.0000, 0.0000, 0.0000, 0.0000, 0.0000, 0.0000,\n",
       "        0.0000, 0.0000, 0.0000, 0.0000, 0.0000, 0.0000, 0.0000, 0.0000, 0.0000,\n",
       "        0.0000, 0.0000, 0.0000, 0.0000, 0.0000, 0.0000, 0.0000, 0.0000, 0.0000,\n",
       "        0.0000, 0.0000, 0.0000, 0.0000, 0.0000, 0.0000, 0.0000, 0.0000, 0.0000,\n",
       "        0.0000, 0.0000, 0.0000, 0.0000, 0.0000, 0.0000, 0.0000, 0.0000, 0.0000,\n",
       "        0.0000, 0.0000, 0.0000, 0.0000, 0.0000, 0.0000, 0.0000, 0.0000, 0.0000,\n",
       "        0.0000, 0.0000, 0.0000, 0.0000, 0.0000, 0.0000, 0.0000, 0.0000, 0.0000,\n",
       "        0.0000, 0.0000, 0.0000, 0.0000, 0.0000, 0.0000, 0.0000, 0.0000, 0.0000,\n",
       "        0.0000, 0.0000, 0.0000, 0.0000, 0.0000, 0.0000, 0.0000, 0.0000, 0.0000,\n",
       "        0.0000, 0.0000, 0.0000, 0.0000, 0.0000, 0.0000, 0.0000, 0.0000, 0.0000,\n",
       "        0.0000, 0.0000, 0.0000, 0.0000, 0.0000, 0.0000, 0.0000, 0.0000, 0.0000,\n",
       "        0.0000, 0.0000, 0.0000, 0.0000, 0.0000, 0.0000, 0.0000, 0.0000, 0.0000,\n",
       "        0.0000, 0.0000, 0.0000, 0.0000, 0.0000, 0.0000, 0.0000, 0.0000, 0.0000,\n",
       "        0.0000, 0.0000, 0.0000, 0.0000, 0.0000, 0.0000, 0.0000, 0.0000, 0.0000,\n",
       "        0.0000, 0.0000, 0.0000, 0.0000, 0.0000, 0.0000, 0.0000, 0.0000, 0.0000,\n",
       "        0.0000, 0.0000, 0.0000, 0.0000, 0.0000, 0.0000, 0.0000, 0.0000, 0.0000,\n",
       "        0.0000, 0.0000, 0.0000, 0.0000, 0.0000, 0.0435, 0.0000, 0.0000, 0.0000,\n",
       "        0.0000, 0.0000, 0.0000, 0.0000, 0.0000, 0.0000, 0.0000, 0.0000, 0.0000,\n",
       "        0.0000, 0.0000, 0.0000, 0.0000, 0.0000, 0.0000, 0.0000, 0.0000, 0.0000,\n",
       "        0.0000, 0.0000, 0.0000, 0.0000, 0.0000, 0.0000, 0.0000, 0.0000, 0.0000,\n",
       "        0.0000, 0.0000, 0.0000, 0.0000, 0.0000, 0.0000, 0.0000, 0.0000, 0.0000,\n",
       "        0.0000, 0.0000, 0.0000, 0.0000, 0.0000, 0.0000, 0.0000, 0.0000, 0.0000,\n",
       "        0.0000, 0.0000, 0.0000, 0.0000, 0.0000, 0.0000, 0.0000, 0.0000, 0.0000,\n",
       "        0.0000, 0.0000, 0.0000, 0.0000, 0.0000, 0.0000, 0.0000, 0.0000, 0.0000,\n",
       "        0.0000, 0.0000, 0.0000, 0.0000, 0.0000, 0.0000, 0.0000, 0.0000, 0.0000,\n",
       "        0.0000, 0.0000, 0.0000, 0.0000, 0.0000, 0.0000, 0.0000, 0.0000, 0.0000,\n",
       "        0.0000, 0.0000, 0.0000, 0.0000, 0.0000, 0.0000, 0.0000, 0.0000, 0.0000,\n",
       "        0.0000, 0.0000, 0.0000, 0.0000, 0.0000, 0.0000, 0.0000, 0.0000, 0.0000,\n",
       "        0.0000, 0.0000, 0.0000, 0.0000, 0.0000, 0.0000, 0.0000, 0.0000, 0.0000,\n",
       "        0.0000, 0.0000, 0.0000, 0.0000, 0.0000, 0.0000, 0.0000, 0.0435, 0.0000,\n",
       "        0.0000, 0.0000, 0.0000, 0.0000, 0.0000, 0.0000, 0.0000, 0.0000, 0.0000,\n",
       "        0.0000, 0.0000, 0.0000, 0.0000, 0.0000, 0.0000, 0.0000, 0.0000, 0.0000,\n",
       "        0.0000, 0.0000, 0.0000, 0.0000, 0.0000, 0.0000, 0.0000, 0.0000, 0.0000,\n",
       "        0.0000, 0.0000, 0.0000, 0.0000, 0.0000, 0.0000, 0.0000, 0.0000, 0.0000,\n",
       "        0.0000, 0.0000, 0.0000, 0.0000, 0.0000, 0.0000, 0.0000, 0.0000, 0.0000,\n",
       "        0.0000, 0.0000, 0.0000, 0.0000, 0.0000, 0.0000, 0.0000, 0.0000, 0.0000,\n",
       "        0.0000, 0.0000, 0.0000, 0.0000, 0.0000, 0.0000, 0.0000, 0.0000, 0.0000,\n",
       "        0.0000, 0.0000, 0.0000, 0.0000, 0.0000, 0.0000, 0.0000, 0.0000, 0.0000,\n",
       "        0.0000, 0.0000, 0.0000, 0.0435, 0.0000, 0.0000, 0.0435, 0.0000, 0.0000,\n",
       "        0.0000, 0.0000, 0.0435, 0.0000, 0.0000, 0.0000, 0.0000, 0.0000, 0.0000,\n",
       "        0.0000, 0.0000, 0.0000, 0.0000, 0.0000, 0.0000, 0.0000, 0.0000, 0.0000,\n",
       "        0.0000, 0.0000, 0.0000, 0.0000, 0.0000, 0.0000, 0.0000, 0.0000, 0.0000,\n",
       "        0.0000, 0.0000, 0.0000, 0.0000, 0.0000, 0.0000, 0.0000, 0.0000, 0.0000,\n",
       "        0.0000, 0.0000, 0.0000, 0.0000, 0.0000, 0.0000, 0.0000, 0.0000, 0.0000,\n",
       "        0.0000, 0.0000, 0.0000, 0.0000, 0.0000, 0.0000, 0.0000, 0.0000, 0.0000,\n",
       "        0.0000, 0.0000, 0.0000, 0.0000, 0.0000, 0.0000, 0.0000, 0.0000, 0.0000,\n",
       "        0.0000, 0.0000, 0.0000, 0.0000, 0.0000, 0.0000, 0.0000, 0.0000, 0.0000,\n",
       "        0.0435, 0.0000, 0.0000, 0.0000, 0.0000, 0.0000, 0.0000, 0.0435, 0.0000,\n",
       "        0.0000, 0.0000, 0.0000, 0.0000, 0.0000, 0.0000, 0.0000, 0.0000, 0.0435,\n",
       "        0.0000, 0.0000, 0.0000, 0.0000, 0.0000, 0.0000, 0.0000, 0.0000, 0.0000,\n",
       "        0.0000, 0.0000, 0.0000, 0.0000, 0.0000, 0.0000, 0.0000, 0.0000, 0.0000,\n",
       "        0.0000, 0.0000, 0.0000, 0.0000, 0.0000, 0.0000, 0.0000, 0.0000, 0.0000,\n",
       "        0.0000, 0.0000, 0.0000, 0.0000, 0.0000, 0.0000, 0.0000, 0.0000, 0.0000,\n",
       "        0.0000, 0.0000, 0.0000, 0.0000, 0.0000, 0.0000, 0.0000, 0.0000, 0.0000,\n",
       "        0.0000, 0.0000, 0.0000, 0.0000, 0.0000, 0.0000, 0.0000, 0.0000, 0.0000,\n",
       "        0.0000, 0.0000, 0.0000, 0.0000, 0.0000, 0.0000, 0.0000, 0.0000, 0.0000,\n",
       "        0.0000, 0.0000, 0.0000, 0.0000, 0.0000, 0.0000, 0.0000, 0.0000, 0.0000,\n",
       "        0.0000, 0.0000, 0.0000, 0.0000, 0.0000, 0.0000, 0.0000, 0.0000, 0.0000,\n",
       "        0.0000, 0.0000])"
      ]
     },
     "execution_count": 9,
     "metadata": {},
     "output_type": "execute_result"
    }
   ],
   "source": [
    "import numpy as np\n",
    "\n",
    "torch.set_printoptions(threshold=np.inf)\n",
    "\n",
    "print(data.x.shape)\n",
    "data.x[1]"
   ]
  },
  {
   "cell_type": "code",
   "execution_count": 10,
   "id": "5b66a011",
   "metadata": {},
   "outputs": [
    {
     "data": {
      "text/plain": [
       "tensor([3, 4, 4, 0, 3, 2, 0, 3, 3, 2, 0, 0, 4, 3, 3, 3, 2, 3, 1, 3, 5, 3, 4, 6,\n",
       "        3, 3, 6, 3, 2, 4, 3, 6, 0, 4, 2, 0, 1, 5, 4, 4, 3, 6, 6, 4, 3, 3, 2, 5,\n",
       "        3, 4, 5, 3, 0, 2, 1, 4, 6, 3, 2, 2, 0, 0, 0, 4, 2, 0, 4, 5, 2, 6, 5, 2,\n",
       "        2, 2, 0, 4, 5, 6, 4, 0, 0, 0, 4, 2, 4, 1, 4, 6, 0, 4, 2, 4, 6, 6, 0, 0,\n",
       "        6, 5, 0, 6, 0, 2, 1, 1, 1, 2, 6, 5, 6, 1, 2, 2, 1, 5, 5, 5, 6, 5, 6, 5,\n",
       "        5, 1, 6, 6, 1, 5, 1, 6, 5, 5, 5, 1, 5, 1, 1, 1, 1, 1, 1, 1, 4, 3, 0, 3,\n",
       "        6, 6, 0, 3, 4, 0, 3, 4, 4, 1, 2, 2, 2, 3, 3, 3, 3, 0, 4, 5, 0, 3, 4, 3,\n",
       "        3, 3, 2, 3, 3, 2, 2, 6, 1, 4, 3, 3, 3, 6, 3, 3, 3, 3, 0, 4, 2, 2, 6, 5,\n",
       "        3, 5, 4, 0, 4, 3, 4, 4, 3, 3, 2, 4, 0, 3, 2, 3, 3, 4, 4, 0, 3, 6, 0, 3,\n",
       "        3, 4, 3, 3, 5, 2, 3, 2, 4, 1, 3, 2, 2, 3, 3, 3, 3, 5, 1, 3, 1, 3, 5, 0,\n",
       "        3, 5, 0, 4, 2, 4, 2, 4, 4, 5, 4, 3, 5, 3, 3, 4, 3, 0, 4, 5, 0, 3, 6, 2,\n",
       "        5, 5, 5, 3, 2, 3, 0, 4, 5, 3, 0, 4, 0, 3, 3, 0, 0, 3, 5, 4, 4, 3, 4, 3,\n",
       "        3, 2, 2, 3, 0, 3, 1, 3, 2, 3, 3, 4, 5, 2, 1, 1, 0, 0, 1, 6, 1, 3, 3, 3,\n",
       "        2, 3, 3, 0, 3, 4, 1, 3, 4, 3, 2, 0, 0, 4, 2, 3, 2, 1, 4, 6, 3, 2, 0, 3,\n",
       "        3, 2, 3, 4, 4, 2, 1, 3, 5, 3, 2, 0, 4, 5, 1, 3, 3, 2, 0, 2, 4, 2, 2, 2,\n",
       "        5, 4, 4, 2, 2, 0, 3, 2, 4, 4, 5, 5, 1, 0, 3, 4, 5, 3, 4, 5, 3, 4, 3, 3,\n",
       "        1, 4, 3, 3, 5, 2, 3, 2, 5, 5, 4, 3, 3, 3, 3, 1, 5, 3, 3, 2, 6, 0, 1, 3,\n",
       "        0, 1, 5, 3, 6, 3, 6, 0, 3, 3, 3, 5, 4, 3, 4, 0, 5, 2, 1, 2, 4, 4, 4, 4,\n",
       "        3, 3, 0, 4, 3, 0, 5, 2, 0, 5, 4, 4, 4, 3, 0, 6, 5, 2, 4, 5, 1, 3, 5, 3,\n",
       "        0, 3, 5, 1, 1, 0, 3, 4, 2, 6, 2, 0, 5, 3, 4, 6, 5, 3, 5, 0, 1, 3, 0, 5,\n",
       "        2, 2, 3, 5, 1, 0, 3, 1, 4, 2, 5, 6, 4, 2, 2, 6, 0, 0, 4, 6, 3, 2, 0, 3,\n",
       "        6, 1, 6, 3, 1, 3, 3, 3, 3, 2, 5, 4, 5, 5, 3, 1, 3, 3, 4, 4, 2, 0, 2, 0,\n",
       "        5, 4, 0, 0, 3, 2, 2, 2, 2, 6, 4, 6, 5, 5, 1, 0, 0, 4, 3, 3, 1, 3, 6, 6,\n",
       "        2, 3, 3, 3, 1, 2, 2, 5, 4, 3, 2, 1, 2, 2, 3, 2, 3, 2, 3, 3, 0, 5, 3, 3,\n",
       "        3, 4, 5, 3, 2, 1, 4, 4, 4, 4, 0, 5, 4, 1, 3, 0, 3, 4, 6, 3, 6, 3, 3, 3,\n",
       "        6, 3, 4, 3, 6, 3, 0, 3, 1, 2, 5, 6, 5, 2, 0, 2, 2, 3, 3, 0, 3, 5, 3, 4,\n",
       "        0, 3, 2, 4, 5, 2, 3, 2, 2, 3, 5, 2, 0, 3, 4, 3, 3, 3, 0, 5, 5, 5, 5, 5,\n",
       "        5, 3, 2, 0, 4, 3, 4, 1, 1, 2, 3, 0, 1, 5, 3, 6, 3, 4, 0, 0, 5, 3, 3, 5,\n",
       "        2, 3, 3, 4, 5, 4, 3, 0, 0, 3, 6, 1, 2, 1, 2, 2, 4, 2, 3, 4, 3, 0, 5, 3,\n",
       "        3, 3, 4, 3, 3, 5, 6, 5, 2, 4, 4, 0, 3, 5, 3, 0, 6, 3, 4, 4, 3, 0, 0, 1,\n",
       "        5, 2, 3, 2, 6, 0, 4, 3, 5, 3, 0, 0, 2, 0, 0, 5, 0, 5, 0, 5, 4, 1, 2, 3,\n",
       "        2, 3, 3, 5, 2, 4, 5, 0, 2, 0, 2, 5, 3, 2, 2, 4, 2, 4, 2, 0, 2, 3, 3, 0,\n",
       "        3, 0, 3, 0, 6, 1, 4, 3, 4, 0, 6, 6, 4, 3, 4, 4, 3, 3, 4, 4, 3, 4, 3, 3,\n",
       "        3, 5, 0, 3, 2, 2, 4, 3, 2, 5, 4, 5, 4, 4, 2, 5, 4, 0, 4, 3, 3, 4, 4, 0,\n",
       "        5, 2, 3, 2, 2, 3, 5, 2, 2, 2, 5, 3, 4, 1, 6, 1, 3, 3, 1, 3, 3, 4, 0, 0,\n",
       "        5, 3, 0, 3, 5, 3, 3, 6, 2, 4, 6, 0, 0, 2, 4, 3, 4, 4, 0, 2, 2, 0, 4, 0,\n",
       "        1, 3, 3, 2, 3, 3, 3, 2, 4, 0, 3, 3, 1, 3, 5, 3, 0, 2, 2, 2, 4, 5, 3, 1,\n",
       "        0, 2, 5, 6, 3, 4, 3, 0, 5, 0, 6, 3, 3, 0, 2, 5, 5, 2, 4, 6, 6, 3, 1, 4,\n",
       "        4, 5, 3, 2, 3, 0, 3, 2, 3, 6, 4, 3, 4, 5, 3, 3, 3, 2, 3, 2, 3, 2, 4, 5,\n",
       "        2, 1, 3, 6, 5, 5, 3, 4, 3, 1, 4, 4, 0, 4, 6, 2, 3, 3, 4, 6, 4, 2, 1, 3,\n",
       "        3, 3, 3, 4, 0, 0, 0, 3, 1, 2, 2, 5, 3, 5, 3, 0, 2, 2, 2, 3, 1, 3, 3, 4,\n",
       "        4, 2, 3, 3, 3, 0, 3, 6, 0, 6, 3, 5, 4, 3, 2, 2, 3, 4, 3, 2, 3, 3, 0, 2,\n",
       "        0, 1, 4, 1, 4, 0, 3, 4, 3, 3, 4, 3, 3, 4, 5, 3, 3, 0, 3, 6, 5, 5, 2, 3,\n",
       "        5, 2, 2, 2, 0, 2, 2, 5, 2, 2, 0, 5, 3, 1, 4, 0, 3, 3, 4, 4, 3, 3, 3, 3,\n",
       "        3, 3, 0, 3, 5, 4, 3, 4, 4, 3, 3, 2, 4, 0, 2, 4, 2, 3, 6, 3, 6, 5, 0, 0,\n",
       "        3, 4, 4, 0, 3, 6, 3, 4, 1, 1, 3, 3, 3, 3, 4, 3, 3, 4, 3, 3, 3, 3, 4, 2,\n",
       "        0, 5, 3, 3, 3, 4, 0, 4, 4, 5, 2, 4, 3, 0, 0, 3, 0, 3, 5, 2, 3, 0, 3, 3,\n",
       "        5, 4, 3, 3, 3, 5, 3, 4, 2, 0, 4, 0, 1, 4, 1, 4, 1, 2, 1, 3, 2, 2, 2, 3,\n",
       "        0, 4, 2, 2, 0, 4, 1, 3, 3, 2, 4, 6, 2, 6, 3, 5, 5, 2, 6, 3, 0, 2, 0, 3,\n",
       "        3, 3, 4, 5, 1, 5, 5, 5, 5, 3, 3, 0, 0, 2, 5, 3, 3, 1, 4, 0, 4, 1, 0, 2,\n",
       "        3, 3, 4, 0, 1, 2, 4, 4, 4, 2, 2, 3, 3, 3, 2, 6, 2, 3, 0, 3, 0, 3, 5, 3,\n",
       "        0, 3, 5, 5, 0, 2, 4, 3, 0, 2, 4, 4, 6, 5, 2, 3, 4, 3, 3, 2, 1, 1, 4, 3,\n",
       "        1, 2, 2, 1, 2, 1, 2, 4, 3, 4, 1, 0, 4, 4, 2, 2, 4, 4, 4, 5, 0, 5, 3, 3,\n",
       "        3, 3, 3, 0, 5, 3, 3, 0, 2, 2, 2, 1, 2, 0, 4, 2, 6, 3, 3, 6, 2, 0, 3, 3,\n",
       "        0, 3, 3, 3, 3, 3, 0, 3, 1, 2, 2, 4, 2, 5, 3, 5, 5, 5, 5, 3, 3, 2, 4, 3,\n",
       "        4, 3, 4, 3, 5, 3, 3, 6, 6, 3, 0, 3, 0, 6, 3, 1, 4, 1, 5, 2, 3, 0, 4, 4,\n",
       "        3, 2, 1, 3, 3, 4, 4, 6, 0, 5, 5, 3, 3, 0, 2, 6, 5, 2, 6, 3, 3, 3, 4, 1,\n",
       "        5, 4, 6, 3, 6, 2, 0, 5, 0, 5, 2, 4, 4, 4, 3, 2, 2, 4, 3, 6, 0, 2, 4, 0,\n",
       "        3, 3, 5, 0, 6, 0, 2, 6, 3, 4, 6, 3, 5, 3, 4, 2, 5, 5, 0, 3, 2, 3, 5, 5,\n",
       "        0, 4, 4, 4, 6, 6, 4, 3, 3, 4, 2, 2, 4, 4, 2, 2, 3, 2, 3, 0, 5, 4, 3, 3,\n",
       "        3, 5, 3, 4, 2, 3, 3, 3, 1, 4, 3, 4, 4, 3, 4, 5, 3, 3, 3, 1, 3, 4, 3, 3,\n",
       "        6, 3, 2, 0, 0, 3, 5, 2, 3, 3, 4, 0, 6, 3, 5, 3, 2, 4, 6, 2, 4, 6, 2, 6,\n",
       "        3, 2, 1, 4, 2, 4, 5, 6, 3, 3, 3, 2, 5, 6, 3, 3, 6, 1, 2, 0, 3, 2, 4, 3,\n",
       "        5, 2, 3, 0, 2, 0, 4, 4, 2, 0, 4, 0, 0, 6, 0, 0, 2, 4, 4, 4, 4, 4, 4, 0,\n",
       "        0, 5, 5, 6, 0, 3, 3, 5, 5, 4, 2, 1, 3, 5, 2, 1, 1, 5, 3, 5, 0, 2, 3, 4,\n",
       "        1, 1, 2, 3, 1, 2, 2, 3, 2, 4, 3, 1, 1, 3, 3, 3, 3, 3, 5, 5, 0, 3, 3, 0,\n",
       "        1, 4, 2, 6, 0, 2, 3, 3, 6, 6, 5, 3, 2, 3, 3, 2, 3, 2, 0, 3, 2, 3, 2, 3,\n",
       "        3, 1, 2, 3, 2, 3, 3, 3, 6, 2, 4, 5, 1, 3, 3, 1, 1, 2, 4, 2, 0, 2, 5, 0,\n",
       "        2, 3, 4, 4, 3, 0, 1, 4, 1, 3, 2, 4, 0, 3, 2, 6, 2, 4, 5, 1, 0, 4, 3, 0,\n",
       "        1, 3, 0, 2, 6, 5, 3, 3, 3, 3, 3, 4, 2, 0, 1, 4, 0, 3, 6, 6, 6, 5, 3, 3,\n",
       "        0, 3, 0, 6, 3, 2, 4, 2, 4, 2, 5, 3, 3, 0, 2, 0, 0, 3, 6, 1, 5, 3, 4, 4,\n",
       "        3, 1, 2, 5, 3, 2, 2, 2, 2, 0, 2, 2, 2, 2, 2, 2, 2, 2, 2, 2, 2, 2, 2, 2,\n",
       "        3, 2, 2, 2, 2, 2, 2, 1, 2, 2, 2, 2, 2, 3, 2, 2, 2, 2, 2, 2, 2, 2, 2, 2,\n",
       "        2, 2, 2, 2, 2, 2, 2, 2, 2, 2, 2, 2, 5, 2, 2, 1, 1, 1, 1, 1, 1, 1, 4, 1,\n",
       "        1, 1, 1, 1, 1, 1, 1, 1, 1, 4, 1, 1, 1, 1, 1, 1, 3, 4, 4, 4, 4, 1, 1, 3,\n",
       "        1, 0, 3, 0, 2, 1, 3, 3, 3, 3, 3, 3, 3, 3, 3, 3, 3, 3, 3, 3, 3, 3, 3, 3,\n",
       "        5, 5, 5, 5, 5, 5, 2, 2, 2, 2, 1, 6, 6, 3, 0, 0, 5, 0, 5, 0, 3, 5, 3, 0,\n",
       "        0, 6, 0, 6, 3, 3, 1, 3, 1, 3, 3, 3, 3, 3, 3, 3, 3, 3, 3, 3, 3, 3, 3, 3,\n",
       "        3, 3, 3, 3, 3, 3, 5, 5, 5, 5, 5, 5, 5, 5, 2, 2, 2, 4, 4, 4, 0, 3, 3, 2,\n",
       "        5, 5, 5, 5, 6, 5, 5, 5, 5, 0, 4, 4, 4, 0, 0, 5, 0, 0, 6, 6, 6, 6, 6, 6,\n",
       "        0, 0, 0, 0, 3, 0, 0, 0, 3, 3, 0, 3, 3, 3, 3, 3, 3, 3, 3, 3, 3, 3, 3, 3,\n",
       "        3, 3, 3, 3, 3, 3, 3, 3, 3, 5, 5, 5, 5, 3, 5, 5, 5, 5, 5, 5, 4, 4, 4, 4,\n",
       "        4, 4, 4, 4, 6, 6, 5, 6, 6, 3, 5, 5, 5, 0, 5, 0, 4, 4, 3, 3, 3, 2, 2, 1,\n",
       "        3, 3, 3, 3, 3, 3, 5, 3, 3, 4, 4, 3, 3, 3, 3, 3, 3, 3, 0, 3, 3, 6, 3, 6,\n",
       "        0, 5, 0, 0, 4, 0, 6, 5, 5, 0, 1, 3, 3, 5, 6, 5, 3, 3, 4, 3, 3, 3, 3, 3,\n",
       "        4, 3, 3, 4, 3, 1, 1, 0, 1, 0, 6, 0, 0, 0, 0, 0, 0, 0, 5, 0, 5, 5, 5, 3,\n",
       "        3, 3, 3, 3, 0, 0, 0, 2, 0, 0, 0, 3, 3, 3, 3, 1, 1, 1, 1, 2, 1, 1, 1, 1,\n",
       "        1, 0, 1, 3, 1, 1, 1, 1, 1, 0, 0, 0, 5, 5, 5, 5, 3, 5, 1, 1, 3, 6, 6, 5,\n",
       "        6, 2, 3, 3, 0, 3, 3, 3, 4, 4, 4, 4, 3, 3, 3, 4, 3, 3, 4, 0, 6, 0, 6, 6,\n",
       "        0, 0, 3, 3, 3, 3, 3, 1, 1, 1, 3, 3, 3, 3, 5, 6, 3, 4, 6, 0, 0, 6, 6, 6,\n",
       "        6, 6, 3, 3, 6, 6, 5, 2, 1, 2, 1, 0, 0, 6, 6, 2, 3, 3, 5, 0, 0, 0, 0, 0,\n",
       "        5, 5, 0, 3, 5, 0, 6, 3, 6, 0, 0, 0, 0, 0, 0, 0, 0, 0, 0, 0, 3, 3, 3, 3,\n",
       "        1, 6, 1, 0, 3, 3, 3, 3, 3, 6, 1, 0, 2, 2, 4, 4, 4, 4, 4, 5, 6, 3, 3, 0,\n",
       "        0, 0, 0, 5, 4, 4, 4, 4, 4, 3, 3, 3, 3, 3, 0, 3, 4, 4, 4, 1, 1, 3, 1, 1,\n",
       "        5, 1, 3, 4, 4, 4, 4, 4, 4, 4, 0, 0, 0, 5, 5, 5, 5, 5, 0, 5, 3, 0, 6, 2,\n",
       "        0, 5, 3, 3, 5, 5, 5, 5, 5, 4, 4, 0, 4, 0, 4, 0, 3, 4, 4, 4, 1, 3, 3, 3,\n",
       "        3, 3, 4, 2, 3, 3, 3, 0, 0, 2, 3, 3, 3, 3, 1, 1, 3, 0, 1, 4, 1, 1, 1, 1,\n",
       "        1, 1, 0, 1, 0, 0, 2, 4, 4, 4, 3, 3, 3, 4, 0, 3, 3, 3, 3, 0, 3, 3, 4, 4,\n",
       "        4, 4, 4, 4, 0, 4, 3, 2, 0, 3, 4, 5, 0, 2, 2, 3, 3, 3, 3, 3, 2, 3, 5, 5,\n",
       "        4, 1, 4, 4, 4, 3, 4, 4, 0, 4, 4, 4, 5, 2, 2, 2, 2, 4, 6, 6, 6, 6, 3, 4,\n",
       "        4, 4, 1, 3, 0, 3, 3, 5, 0, 2, 3, 3, 3, 3, 3, 2, 4, 4, 0, 0, 3, 2, 6, 6,\n",
       "        0, 3, 3, 3, 5, 1, 3, 4, 4, 2, 4, 4, 4, 3, 3, 2, 2, 2, 2, 2, 2, 2, 2, 2,\n",
       "        2, 0, 2, 2, 2, 0, 6, 6, 5, 6, 6, 3, 2, 6, 3, 4, 4, 4, 2, 6, 6, 0, 0, 3,\n",
       "        0, 4, 4, 3, 2, 3, 1, 6, 6, 5, 3, 4, 3, 5, 3, 1, 1, 3, 4, 5, 2, 3, 3, 3,\n",
       "        4, 5, 4, 0, 3, 3, 0, 2, 1, 1, 5, 2, 3, 3, 5, 0, 2, 3, 2, 2, 5, 5, 4, 3,\n",
       "        4, 3, 2, 2, 4, 2, 4, 5, 5, 3, 2, 3, 1, 0, 3, 3, 4, 5, 4, 3, 3, 3, 3, 3,\n",
       "        0, 1, 2, 4, 4, 4, 3, 3, 3, 5, 2, 3, 2, 2, 2, 3, 2, 2, 0, 4, 4, 3, 3, 3,\n",
       "        3, 3, 3, 3, 3, 3, 3, 0, 0, 3, 0, 3, 0, 2, 3, 4, 1, 2, 5, 4, 3, 3, 3, 1,\n",
       "        5, 3, 4, 3, 2, 2, 1, 3, 3, 3, 3, 3, 6, 3, 3, 3, 6, 3, 3, 3, 2, 3, 2, 4,\n",
       "        2, 4, 2, 2, 1, 5, 6, 4, 3, 3, 3, 2, 5, 3, 3, 4, 3, 3, 3, 3, 3, 4, 6, 0,\n",
       "        3, 2, 2, 2, 5, 4, 4, 4, 4, 6, 3, 2, 2, 0, 2, 2, 2, 2, 2, 3, 4, 4, 4, 3,\n",
       "        3, 4, 4, 3, 3, 3, 4, 4, 4, 4, 4, 4, 3, 4, 4, 4, 4, 4, 4, 4, 4, 2, 3, 3,\n",
       "        3, 2, 6, 2, 3, 3, 4, 4, 3, 3, 3, 3, 3, 3, 0, 3, 3, 3, 3, 3])"
      ]
     },
     "execution_count": 10,
     "metadata": {},
     "output_type": "execute_result"
    }
   ],
   "source": [
    "data.y\n"
   ]
  },
  {
   "cell_type": "code",
   "execution_count": 19,
   "id": "a1f05f3e",
   "metadata": {},
   "outputs": [
    {
     "name": "stdout",
     "output_type": "stream",
     "text": [
      "类别0:351个样本\n",
      "类别1:217个样本\n",
      "类别2:418个样本\n",
      "类别3:818个样本\n",
      "类别4:426个样本\n",
      "类别5:298个样本\n",
      "类别6:180个样本\n"
     ]
    },
    {
     "data": {
      "image/png": "[encoded data removed]",
      "text/plain": [
       "<Figure size 640x480 with 1 Axes>"
      ]
     },
     "metadata": {},
     "output_type": "display_data"
    }
   ],
   "source": [
    "import matplotlib.pyplot as plt\n",
    "\n",
    "unique_labels,counts=torch.unique(data.y,return_counts=True)\n",
    "\n",
    "for label,count in zip(unique_labels,counts):\n",
    "    print(f\"类别{label.item()}:{count.item()}个样本\")\n",
    "\n",
    "\n",
    "plt.bar(unique_labels.numpy(),counts.numpy(),width=0.6)\n",
    "plt.xlabel(\"labels\")\n",
    "plt.ylabel(\"counts\")\n",
    "\n",
    "for label,count in zip(unique_labels,counts):\n",
    "    plt.text(label.item(),count.item()+1,str(count.item()),ha=\"center\",va=\"bottom\")\n",
    "\n",
    "plt.show()"
   ]
  },
  {
   "cell_type": "code",
   "execution_count": 20,
   "id": "4011f52c",
   "metadata": {},
   "outputs": [
    {
     "name": "stdout",
     "output_type": "stream",
     "text": [
      "torch.Size([2, 10556])\n"
     ]
    },
    {
     "data": {
      "text/plain": [
       "tensor([[   0,    0,    0,  ..., 2707, 2707, 2707],\n",
       "        [ 633, 1862, 2582,  ...,  598, 1473, 2706]])"
      ]
     },
     "execution_count": 20,
     "metadata": {},
     "output_type": "execute_result"
    }
   ],
   "source": [
    "torch.set_printoptions(profile=\"default\")\n",
    "\n",
    "print(data.edge_index.shape)\n",
    "data.edge_index"
   ]
  },
  {
   "cell_type": "code",
   "execution_count": 21,
   "id": "ac7982ab",
   "metadata": {},
   "outputs": [
    {
     "data": {
      "text/plain": [
       "tensor([[   0,  633],\n",
       "        [   0, 1862],\n",
       "        [   0, 2582],\n",
       "        ...,\n",
       "        [2707,  598],\n",
       "        [2707, 1473],\n",
       "        [2707, 2706]])"
      ]
     },
     "execution_count": 21,
     "metadata": {},
     "output_type": "execute_result"
    }
   ],
   "source": [
    "data.edge_index.t()"
   ]
  },
  {
   "cell_type": "code",
   "execution_count": 22,
   "id": "167d668a",
   "metadata": {},
   "outputs": [
    {
     "data": {
      "text/plain": [
       "tensor([ True,  True,  True,  ..., False, False, False])"
      ]
     },
     "execution_count": 22,
     "metadata": {},
     "output_type": "execute_result"
    }
   ],
   "source": [
    "data.train_mask"
   ]
  },
  {
   "cell_type": "code",
   "execution_count": null,
   "id": "e146e050",
   "metadata": {},
   "outputs": [],
   "source": []
  }
 ],
 "metadata": {
  "kernelspec": {
   "display_name": "GNN_pytorch",
   "language": "python",
   "name": "python3"
  },
  "language_info": {
   "codemirror_mode": {
    "name": "ipython",
    "version": 3
   },
   "file_extension": ".py",
   "mimetype": "text/x-python",
   "name": "python",
   "nbconvert_exporter": "python",
   "pygments_lexer": "ipython3",
   "version": "3.8.20"
  }
 },
 "nbformat": 4,
 "nbformat_minor": 5
}
