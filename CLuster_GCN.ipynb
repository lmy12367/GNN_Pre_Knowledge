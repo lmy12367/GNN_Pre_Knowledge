{
 "cells": [
  {
   "cell_type": "code",
   "execution_count": 2,
   "id": "e7457891",
   "metadata": {},
   "outputs": [
    {
     "name": "stdout",
     "output_type": "stream",
     "text": [
      "datasetPubMed()\n",
      "xxxxxxxxxxxxxxxxxxxxxxxxxxxxxxxxxxxxxxxxxxxxxxxxxx\n",
      "number of graphs: 1\n",
      "number of features: 500\n",
      "number of classes:3\n",
      "******************************\n",
      "Data(x=[19717, 500], edge_index=[2, 88648], y=[19717], train_mask=[19717], val_mask=[19717], test_mask=[19717])\n",
      "==================================================\n",
      "Number of nodes:19717\n",
      "Number of edges: 88648\n",
      "Average node degree:4.50\n",
      "Number of training nodes:60\n",
      "Training node label rate:0.003\n",
      "Has isolated nodes:False\n",
      "Has self-loops:False\n",
      "Is undirected:True\n"
     ]
    }
   ],
   "source": [
    "import torch\n",
    "from torch_geometric.datasets import Planetoid\n",
    "from torch_geometric.transforms import NormalizeFeatures\n",
    "\n",
    "dataset=Planetoid(root=\"data/Planetoid\",name=\"PubMed\",transform=NormalizeFeatures())\n",
    "\n",
    "print(f\"dataset{dataset}\")\n",
    "print(\"x\"*50)\n",
    "print(f\"number of graphs: {len(dataset)}\")\n",
    "print(f\"number of features: {dataset.num_features}\")\n",
    "print(f\"number of classes:{dataset.num_classes}\")\n",
    "\n",
    "data=dataset[0]\n",
    "\n",
    "print(\"*\"*30)\n",
    "print(data)\n",
    "print(\"=\"*50)\n",
    "\n",
    "print(f'Number of nodes:{data.num_nodes}')\n",
    "print(f'Number of edges: {data.num_edges}')\n",
    "print(f'Average node degree:{data.num_edges / data.num_nodes:.2f}')\n",
    "print(f'Number of training nodes:{data.train_mask.sum()}')\n",
    "print(f'Training node label rate:{int(data.train_mask.sum()) / data.num_nodes:.3f}')\n",
    "print(f'Has isolated nodes:{data.has_isolated_nodes()}')\n",
    "print(f'Has self-loops:{data.has_self_loops()}')\n",
    "print(f'Is undirected:{data.is_undirected()}')\n"
   ]
  },
  {
   "cell_type": "code",
   "execution_count": 3,
   "id": "cac67cc4",
   "metadata": {},
   "outputs": [
    {
     "name": "stdout",
     "output_type": "stream",
     "text": [
      "60\n",
      "500\n",
      "1000\n"
     ]
    }
   ],
   "source": [
    "print(int(data.train_mask.sum()))\n",
    "print(int(data.val_mask.sum()))\n",
    "print(int(data.test_mask.sum()))"
   ]
  },
  {
   "cell_type": "code",
   "execution_count": 4,
   "id": "0b0cfeca",
   "metadata": {},
   "outputs": [
    {
     "name": "stdout",
     "output_type": "stream",
     "text": [
      "类别0:4103个样本\n",
      "类别1:7739个样本\n",
      "类别2:7875个样本\n"
     ]
    },
    {
     "data": {
      "image/png": "[encoded data removed]",
      "text/plain": [
       "<Figure size 640x480 with 1 Axes>"
      ]
     },
     "metadata": {},
     "output_type": "display_data"
    }
   ],
   "source": [
    "import matplotlib.pyplot as plt\n",
    "\n",
    "unique_labels,counts=torch.unique(data.y,return_counts=True)\n",
    "\n",
    "for label,count in zip(unique_labels,counts):\n",
    "    print(f\"类别{label.item()}:{count.item()}个样本\")\n",
    "\n",
    "plt.bar(unique_labels.numpy(),counts.numpy())\n",
    "plt.xlabel(\"labels\")\n",
    "plt.ylabel(\"labels\")\n",
    "\n",
    "for label,count in zip(unique_labels,counts):\n",
    "    plt.text(label.item(),count.item(),str(count.item()),ha=\"center\",va=\"bottom\")\n",
    "\n",
    "plt.show()\n",
    "\n"
   ]
  },
  {
   "cell_type": "code",
   "execution_count": 5,
   "id": "87ffc026",
   "metadata": {},
   "outputs": [
    {
     "name": "stdout",
     "output_type": "stream",
     "text": [
      "ClusterGCN(\n",
      "  (conv1): ClusterGCNConv(500, 32, diag_lambda=1)\n",
      "  (conv2): ClusterGCNConv(32, 3, diag_lambda=1)\n",
      "  (dp): Dropout(p=0.5, inplace=False)\n",
      ")\n",
      "total:32227\n"
     ]
    }
   ],
   "source": [
    "import torch.nn as nn\n",
    "from torch_geometric.nn import ClusterGCNConv\n",
    "import torch.nn.functional as F\n",
    "\n",
    "class ClusterGCN(nn.Module):\n",
    "    def __init__(self,output_channels=3):\n",
    "        super(ClusterGCN, self).__init__()\n",
    "\n",
    "        self.conv1=ClusterGCNConv(500,32,diag_lambda=1)\n",
    "        self.conv2=ClusterGCNConv(32,output_channels,diag_lambda=1)\n",
    "\n",
    "        self.dp=nn.Dropout(p=0.5)\n",
    "\n",
    "    def forward(self,x,edge_index):\n",
    "        x=F.relu(self.conv1(x,edge_index))\n",
    "        x=self.conv2(x,edge_index)\n",
    "\n",
    "        return x\n",
    "    \n",
    "model=ClusterGCN()\n",
    "print(model)\n",
    "\n",
    "total_params=sum(p.numel() for p in model.parameters() if p.requires_grad)\n",
    "print(f\"total:{total_params}\")"
   ]
  },
  {
   "cell_type": "code",
   "execution_count": 8,
   "id": "44469b26",
   "metadata": {},
   "outputs": [],
   "source": [
    "for layer in model.children():\n",
    "    if hasattr(layer,\"reset_parameters\"):\n",
    "        layer.reset_parameters()"
   ]
  },
  {
   "cell_type": "code",
   "execution_count": 11,
   "id": "2dcd71d7",
   "metadata": {},
   "outputs": [
    {
     "name": "stdout",
     "output_type": "stream",
     "text": [
      "epoch is 0,loss is 0.4650663137435913,train_acc is 0.9833333333333333,val_acc is 0.744,test_acc0.743\n",
      "epoch is 10,loss is 0.07603111863136292,train_acc is 1.0,val_acc is 0.754,test_acc0.755\n",
      "epoch is 20,loss is 0.013447721488773823,train_acc is 1.0,val_acc is 0.744,test_acc0.75\n",
      "epoch is 30,loss is 0.005504921078681946,train_acc is 1.0,val_acc is 0.75,test_acc0.751\n",
      "epoch is 40,loss is 0.004957630764693022,train_acc is 1.0,val_acc is 0.758,test_acc0.751\n",
      "epoch is 50,loss is 0.0060208505019545555,train_acc is 1.0,val_acc is 0.76,test_acc0.758\n",
      "epoch is 60,loss is 0.007003015838563442,train_acc is 1.0,val_acc is 0.766,test_acc0.768\n",
      "epoch is 70,loss is 0.006992482580244541,train_acc is 1.0,val_acc is 0.772,test_acc0.773\n",
      "epoch is 80,loss is 0.006364787928760052,train_acc is 1.0,val_acc is 0.768,test_acc0.773\n",
      "epoch is 90,loss is 0.005717886611819267,train_acc is 1.0,val_acc is 0.768,test_acc0.776\n",
      "time is 2.6400535106658936\n"
     ]
    }
   ],
   "source": [
    "import time \n",
    "from numpy import arange\n",
    "import torch.optim as optim\n",
    "import torch.nn.functional as F\n",
    "\n",
    "device=torch.device(\"cuda:0\" if torch.cuda.is_available() else \"cpu\")\n",
    "\n",
    "model=model.to(device)\n",
    "\n",
    "optimizer=optim.Adam(model.parameters(),lr=0.01,weight_decay=1e-4)\n",
    "criterion=nn.CrossEntropyLoss(reduction=\"mean\")\n",
    "\n",
    "data=data.to(device)\n",
    "\n",
    "def train():\n",
    "    model.train()\n",
    "    optimizer.zero_grad()\n",
    "    train_outputs=model(data.x,data.edge_index)\n",
    "    loss=criterion(train_outputs[data.train_mask], data.y[data.train_mask])\n",
    "    loss.backward()\n",
    "    optimizer.step()\n",
    "    \n",
    "    return loss\n",
    "\n",
    "def test():\n",
    "    model.eval()\n",
    "    outputs=model(data.x,data.edge_index)\n",
    "    preds=outputs.argmax(dim=1)\n",
    "\n",
    "    accs=[]\n",
    "    for mask in [data.train_mask,data.val_mask,data.test_mask]:\n",
    "        correct=preds[mask]==data.y[mask]\n",
    "        accs.append(int(correct.sum())/int(mask.sum()))\n",
    "    return accs\n",
    "\n",
    "start=time.time()\n",
    "\n",
    "for epoch in arange(100):\n",
    "    loss=train()\n",
    "\n",
    "    train_acc,val_acc,test_acc=test()\n",
    "\n",
    "    if epoch%10==0:\n",
    "        print(f\"epoch is {epoch},loss is {loss},train_acc is {train_acc},val_acc is {val_acc},test_acc{test_acc}\")\n",
    "\n",
    "end=time.time()\n",
    "time_total=end-start\n",
    "print(f\"time is {time_total}\")\n",
    "\n"
   ]
  },
  {
   "cell_type": "code",
   "execution_count": null,
   "id": "495a8937",
   "metadata": {},
   "outputs": [],
   "source": []
  }
 ],
 "metadata": {
  "kernelspec": {
   "display_name": "GNN_pytorch",
   "language": "python",
   "name": "python3"
  },
  "language_info": {
   "codemirror_mode": {
    "name": "ipython",
    "version": 3
   },
   "file_extension": ".py",
   "mimetype": "text/x-python",
   "name": "python",
   "nbconvert_exporter": "python",
   "pygments_lexer": "ipython3",
   "version": "3.8.20"
  }
 },
 "nbformat": 4,
 "nbformat_minor": 5
}
