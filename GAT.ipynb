{
 "cells": [
  {
   "cell_type": "code",
   "execution_count": 1,
   "id": "ee79d988",
   "metadata": {},
   "outputs": [
    {
     "name": "stdout",
     "output_type": "stream",
     "text": [
      "1.13.1+cu116\n",
      "2.1.0\n"
     ]
    }
   ],
   "source": [
    "import torch\n",
    "import torch_geometric\n",
    "\n",
    "print(torch.__version__)\n",
    "print(torch_geometric.__version__)"
   ]
  },
  {
   "cell_type": "code",
   "execution_count": 2,
   "id": "1eb6e9f5",
   "metadata": {},
   "outputs": [],
   "source": [
    "import torch.nn as nn\n",
    "import torch.nn.functional as F\n",
    "import numpy as np"
   ]
  },
  {
   "cell_type": "code",
   "execution_count": 3,
   "id": "ab15332e",
   "metadata": {},
   "outputs": [],
   "source": [
    "class GATLayer(nn.Module):\n",
    "    def __init__(self):\n",
    "        super(GATLayer,self).__init__()\n",
    "\n",
    "    def forward(self,input,adj):\n",
    "        pass"
   ]
  },
  {
   "cell_type": "code",
   "execution_count": 4,
   "id": "e4b62359",
   "metadata": {},
   "outputs": [],
   "source": [
    "in_features=5\n",
    "out_features=2\n",
    "nb_nodes=3"
   ]
  },
  {
   "cell_type": "code",
   "execution_count": 5,
   "id": "02267be6",
   "metadata": {},
   "outputs": [
    {
     "name": "stdout",
     "output_type": "stream",
     "text": [
      "Parameter containing:\n",
      "tensor([[-0.0167,  1.0758],\n",
      "        [-0.5520, -0.0468],\n",
      "        [-0.8608, -0.6366],\n",
      "        [-0.9014,  1.7466],\n",
      "        [-0.5446,  0.1511]], requires_grad=True)\n",
      "tensor([[0.1949, 0.0305, 0.1280, 0.9392, 0.8192],\n",
      "        [0.1105, 0.0259, 0.2771, 0.0728, 0.5064],\n",
      "        [0.0402, 0.2440, 0.9048, 0.8621, 0.3584]])\n"
     ]
    }
   ],
   "source": [
    "W=nn.Parameter(torch.zeros(size=(in_features,out_features)))\n",
    "nn.init.xavier_normal_(W.data,gain=1.414)\n",
    "print(W)\n",
    "\n",
    "input=torch.rand(nb_nodes,in_features)\n",
    "print(input)\n"
   ]
  },
  {
   "cell_type": "code",
   "execution_count": 6,
   "id": "605b2097",
   "metadata": {},
   "outputs": [
    {
     "name": "stdout",
     "output_type": "stream",
     "text": [
      "tensor([[-1.4230,  1.8909],\n",
      "        [-0.5961,  0.1448],\n",
      "        [-1.8865,  1.0157]], grad_fn=<MmBackward0>)\n",
      "torch.Size([3, 2])\n"
     ]
    }
   ],
   "source": [
    "h=torch.mm(input,W)\n",
    "print(h)\n",
    "print(h.shape)"
   ]
  },
  {
   "cell_type": "code",
   "execution_count": 7,
   "id": "e3f952c1",
   "metadata": {},
   "outputs": [
    {
     "name": "stdout",
     "output_type": "stream",
     "text": [
      "3\n"
     ]
    }
   ],
   "source": [
    "N=h.size()[0]\n",
    "print(N)"
   ]
  },
  {
   "cell_type": "code",
   "execution_count": 8,
   "id": "0ad745a7",
   "metadata": {},
   "outputs": [
    {
     "data": {
      "image/png": "[encoded data removed]",
      "text/plain": [
       "<Figure size 640x480 with 1 Axes>"
      ]
     },
     "metadata": {},
     "output_type": "display_data"
    }
   ],
   "source": [
    "import matplotlib.pyplot as plt\n",
    "\n",
    "def leaky_relu(x,negative_slop=0.2):\n",
    "    return np.where(x>=0,x,negative_slop*x)\n",
    "\n",
    "x=np.linspace(-5,5,100)\n",
    "y=leaky_relu(x,negative_slop=0.2)\n",
    "plt.plot(x,y,label=\"Leaky Relu(0.2)\")\n",
    "plt.title('Leaky ReLU Function')\n",
    "plt.xlabel('Input')\n",
    "plt.ylabel('Output')\n",
    "plt.legend()\n",
    "plt.grid(True)\n",
    "plt.show()"
   ]
  },
  {
   "cell_type": "code",
   "execution_count": 9,
   "id": "36b7406b",
   "metadata": {},
   "outputs": [
    {
     "name": "stdout",
     "output_type": "stream",
     "text": [
      "torch.Size([4, 1])\n"
     ]
    }
   ],
   "source": [
    "a=nn.Parameter(torch.zeros(size=(2*out_features,1)))\n",
    "nn.init.xavier_normal_(a.data,gain=1.414)\n",
    "print(a.shape)\n",
    "\n",
    "leaky_relu=nn.LeakyReLU(0.2)\n"
   ]
  },
  {
   "cell_type": "code",
   "execution_count": 10,
   "id": "14aec37f",
   "metadata": {},
   "outputs": [
    {
     "name": "stdout",
     "output_type": "stream",
     "text": [
      "tensor([[-1.4230,  1.8909],\n",
      "        [-0.5961,  0.1448],\n",
      "        [-1.8865,  1.0157],\n",
      "        [-1.4230,  1.8909],\n",
      "        [-0.5961,  0.1448],\n",
      "        [-1.8865,  1.0157],\n",
      "        [-1.4230,  1.8909],\n",
      "        [-0.5961,  0.1448],\n",
      "        [-1.8865,  1.0157]], grad_fn=<RepeatBackward0>)\n",
      "tensor([[-1.4230,  1.8909, -1.4230,  1.8909, -1.4230,  1.8909],\n",
      "        [-0.5961,  0.1448, -0.5961,  0.1448, -0.5961,  0.1448],\n",
      "        [-1.8865,  1.0157, -1.8865,  1.0157, -1.8865,  1.0157]],\n",
      "       grad_fn=<RepeatBackward0>)\n",
      "tensor([[-1.4230,  1.8909, -1.4230,  1.8909, -1.4230,  1.8909],\n",
      "        [-0.5961,  0.1448, -0.5961,  0.1448, -0.5961,  0.1448],\n",
      "        [-1.8865,  1.0157, -1.8865,  1.0157, -1.8865,  1.0157],\n",
      "        [-1.4230,  1.8909, -1.4230,  1.8909, -1.4230,  1.8909],\n",
      "        [-0.5961,  0.1448, -0.5961,  0.1448, -0.5961,  0.1448],\n",
      "        [-1.8865,  1.0157, -1.8865,  1.0157, -1.8865,  1.0157],\n",
      "        [-1.4230,  1.8909, -1.4230,  1.8909, -1.4230,  1.8909],\n",
      "        [-0.5961,  0.1448, -0.5961,  0.1448, -0.5961,  0.1448],\n",
      "        [-1.8865,  1.0157, -1.8865,  1.0157, -1.8865,  1.0157]],\n",
      "       grad_fn=<RepeatBackward0>)\n"
     ]
    }
   ],
   "source": [
    "print(h.repeat(3,1))\n",
    "print(h.repeat(1,3))\n",
    "print(h.repeat(3,3))\n"
   ]
  },
  {
   "cell_type": "code",
   "execution_count": 11,
   "id": "ce8188cc",
   "metadata": {},
   "outputs": [
    {
     "data": {
      "text/plain": [
       "tensor([[-1.4230,  1.8909, -1.4230,  1.8909],\n",
       "        [-1.4230,  1.8909, -0.5961,  0.1448],\n",
       "        [-1.4230,  1.8909, -1.8865,  1.0157],\n",
       "        [-0.5961,  0.1448, -1.4230,  1.8909],\n",
       "        [-0.5961,  0.1448, -0.5961,  0.1448],\n",
       "        [-0.5961,  0.1448, -1.8865,  1.0157],\n",
       "        [-1.8865,  1.0157, -1.4230,  1.8909],\n",
       "        [-1.8865,  1.0157, -0.5961,  0.1448],\n",
       "        [-1.8865,  1.0157, -1.8865,  1.0157]], grad_fn=<CatBackward0>)"
      ]
     },
     "execution_count": 11,
     "metadata": {},
     "output_type": "execute_result"
    }
   ],
   "source": [
    "torch.cat([h.repeat(1,N).view(N*N,-1),h.repeat(N,1)],dim=1)\n"
   ]
  },
  {
   "cell_type": "code",
   "execution_count": 12,
   "id": "f0915a79",
   "metadata": {},
   "outputs": [
    {
     "name": "stdout",
     "output_type": "stream",
     "text": [
      "tensor([[[-1.4230,  1.8909, -1.4230,  1.8909],\n",
      "         [-1.4230,  1.8909, -0.5961,  0.1448],\n",
      "         [-1.4230,  1.8909, -1.8865,  1.0157]],\n",
      "\n",
      "        [[-0.5961,  0.1448, -1.4230,  1.8909],\n",
      "         [-0.5961,  0.1448, -0.5961,  0.1448],\n",
      "         [-0.5961,  0.1448, -1.8865,  1.0157]],\n",
      "\n",
      "        [[-1.8865,  1.0157, -1.4230,  1.8909],\n",
      "         [-1.8865,  1.0157, -0.5961,  0.1448],\n",
      "         [-1.8865,  1.0157, -1.8865,  1.0157]]], grad_fn=<ViewBackward0>)\n",
      "torch.Size([3, 3, 4])\n"
     ]
    }
   ],
   "source": [
    "a_input=torch.cat([h.repeat(1,N).view(N*N,-1),h.repeat(N,1)],dim=1).view(N, -1, 2 * out_features)\n",
    "print(a_input)\n",
    "print(a_input.shape)"
   ]
  },
  {
   "cell_type": "code",
   "execution_count": 13,
   "id": "d6272461",
   "metadata": {},
   "outputs": [
    {
     "name": "stdout",
     "output_type": "stream",
     "text": [
      "tensor([[ 1.6168,  0.8792,  0.4030],\n",
      "        [ 0.5373, -0.0401, -0.1353],\n",
      "        [ 1.3356,  0.5979,  0.1218]], grad_fn=<SqueezeBackward1>)\n",
      "torch.Size([3, 3])\n"
     ]
    }
   ],
   "source": [
    "e=leaky_relu(torch.matmul(a_input,a)).squeeze(2)\n",
    "print(e)\n",
    "print(e.shape)"
   ]
  },
  {
   "cell_type": "code",
   "execution_count": 14,
   "id": "feebf352",
   "metadata": {},
   "outputs": [
    {
     "name": "stdout",
     "output_type": "stream",
     "text": [
      "tensor([[[ 1.6168],\n",
      "         [ 0.8792],\n",
      "         [ 0.4030]],\n",
      "\n",
      "        [[ 0.5373],\n",
      "         [-0.2003],\n",
      "         [-0.6765]],\n",
      "\n",
      "        [[ 1.3356],\n",
      "         [ 0.5979],\n",
      "         [ 0.1218]]], grad_fn=<UnsafeViewBackward0>)\n",
      "tensor([[ 1.6168,  0.8792,  0.4030],\n",
      "        [ 0.5373, -0.2003, -0.6765],\n",
      "        [ 1.3356,  0.5979,  0.1218]], grad_fn=<SqueezeBackward1>)\n"
     ]
    }
   ],
   "source": [
    "print(torch.matmul(a_input,a))\n",
    "print(torch.matmul(a_input,a).squeeze(2))"
   ]
  },
  {
   "cell_type": "code",
   "execution_count": 15,
   "id": "650312f2",
   "metadata": {},
   "outputs": [
    {
     "name": "stdout",
     "output_type": "stream",
     "text": [
      "tensor([[1, 0, 1],\n",
      "        [1, 1, 1],\n",
      "        [0, 1, 1]])\n",
      "tensor([[-9.0000e+15, -9.0000e+15, -9.0000e+15],\n",
      "        [-9.0000e+15, -9.0000e+15, -9.0000e+15],\n",
      "        [-9.0000e+15, -9.0000e+15, -9.0000e+15]])\n"
     ]
    }
   ],
   "source": [
    "torch.manual_seed(16)\n",
    "adj=torch.randint(2,(3,3))\n",
    "\n",
    "zero_vec=-9e15*torch.ones_like(e)\n",
    "print(adj)\n",
    "print(zero_vec)"
   ]
  },
  {
   "cell_type": "code",
   "execution_count": 16,
   "id": "290c735d",
   "metadata": {},
   "outputs": [
    {
     "name": "stdout",
     "output_type": "stream",
     "text": [
      "tensor([[1, 0, 1],\n",
      "        [1, 1, 1],\n",
      "        [0, 1, 1]])\n",
      "tensor([[ 1.6168,  0.8792,  0.4030],\n",
      "        [ 0.5373, -0.0401, -0.1353],\n",
      "        [ 1.3356,  0.5979,  0.1218]], grad_fn=<SqueezeBackward1>)\n",
      "tensor([[-9.0000e+15, -9.0000e+15, -9.0000e+15],\n",
      "        [-9.0000e+15, -9.0000e+15, -9.0000e+15],\n",
      "        [-9.0000e+15, -9.0000e+15, -9.0000e+15]])\n",
      "tensor([[ 1.6168e+00, -9.0000e+15,  4.0302e-01],\n",
      "        [ 5.3730e-01, -4.0069e-02, -1.3530e-01],\n",
      "        [-9.0000e+15,  5.9792e-01,  1.2175e-01]], grad_fn=<WhereBackward0>)\n"
     ]
    }
   ],
   "source": [
    "attention=torch.where(adj>0,e,zero_vec)\n",
    "print(adj)\n",
    "print(e)\n",
    "print(zero_vec)\n",
    "print(attention)"
   ]
  },
  {
   "cell_type": "code",
   "execution_count": 17,
   "id": "ac8d4e85",
   "metadata": {},
   "outputs": [],
   "source": [
    "attention=F.softmax(attention,dim=1)\n",
    "h_prime=torch.matmul(attention,h)"
   ]
  },
  {
   "cell_type": "code",
   "execution_count": 18,
   "id": "cd65df2a",
   "metadata": {},
   "outputs": [
    {
     "data": {
      "text/plain": [
       "tensor([[0.7710, 0.0000, 0.2290],\n",
       "        [0.4827, 0.2710, 0.2464],\n",
       "        [0.0000, 0.6168, 0.3832]], grad_fn=<SoftmaxBackward0>)"
      ]
     },
     "execution_count": 18,
     "metadata": {},
     "output_type": "execute_result"
    }
   ],
   "source": [
    "attention\n"
   ]
  },
  {
   "cell_type": "code",
   "execution_count": 19,
   "id": "bd5c7a8c",
   "metadata": {},
   "outputs": [
    {
     "data": {
      "text/plain": [
       "tensor([[-1.5292,  1.6904],\n",
       "        [-1.3131,  1.2021],\n",
       "        [-1.0905,  0.4785]], grad_fn=<MmBackward0>)"
      ]
     },
     "execution_count": 19,
     "metadata": {},
     "output_type": "execute_result"
    }
   ],
   "source": [
    "h_prime"
   ]
  },
  {
   "cell_type": "code",
   "execution_count": 20,
   "id": "b583ce2e",
   "metadata": {},
   "outputs": [
    {
     "name": "stdout",
     "output_type": "stream",
     "text": [
      "tensor([[-1.5292,  1.6904],\n",
      "        [-1.3131,  1.2021],\n",
      "        [-1.0905,  0.4785]], grad_fn=<MmBackward0>) \n",
      " tensor([[-1.4230,  1.8909],\n",
      "        [-0.5961,  0.1448],\n",
      "        [-1.8865,  1.0157]], grad_fn=<MmBackward0>)\n"
     ]
    }
   ],
   "source": [
    "print(h_prime, \"\\n\", h)"
   ]
  },
  {
   "cell_type": "code",
   "execution_count": 21,
   "id": "a4cddce5",
   "metadata": {},
   "outputs": [],
   "source": [
    "class GATLayer(nn.Module):\n",
    "    def __init__(self,in_features,out_features,dropout,alpha):\n",
    "        super(GATLayer,self).__init__()\n",
    "        self.dropout=dropout\n",
    "        self.in_features=in_features\n",
    "        self.out_features=out_features\n",
    "        self.alpha=alpha\n",
    "\n",
    "        self.W=nn.Parameter(torch.zeros(size=(in_features,out_features)))\n",
    "        nn.init.xavier_normal_(self.W.data,gain=1.414)\n",
    "\n",
    "        self.a=nn.Parameter(torch.zeros(size=(2*out_features,1)))\n",
    "        nn.init.xavier_normal_(self.a.data,gain=1.414)\n",
    "\n",
    "        self.leakyrelu=nn.LeakyReLU(self.alpha)\n",
    "\n",
    "    def forward(self,input,adj):\n",
    "        h=torch.mm(input,self.W)\n",
    "        N=h.size()[0]\n",
    "\n",
    "        a_input=torch.cat([h.repeat(1,N).view(N*N,-1),h.repeat(N,1)],dim=1).view(N,-1,2*self.out_features)\n",
    "        e=self.leakyrelu(torch.matmul(a_input,self.a).squeeze(2))\n",
    "\n",
    "        zero_vec=-9e15*torch.ones_like(e)\n",
    "        attention=torch.where(adj>0,e,zero_vec)\n",
    "\n",
    "        attention=F.softmax(attention,self.dropout,training=self.training)\n",
    "        h_prime=torch.matmul(attention,h)\n",
    "\n",
    "        return h_prime\n",
    "    "
   ]
  },
  {
   "cell_type": "code",
   "execution_count": 22,
   "id": "fa2b1612",
   "metadata": {},
   "outputs": [
    {
     "name": "stdout",
     "output_type": "stream",
     "text": [
      "Cora()\n",
      "Data(x=[2708, 1433], edge_index=[2, 10556], y=[2708], train_mask=[2708], val_mask=[2708], test_mask=[2708])\n"
     ]
    }
   ],
   "source": [
    "from torch_geometric.datasets import Planetoid\n",
    "from torch_geometric.transforms import NormalizeFeatures\n",
    "\n",
    "dataset=Planetoid(root=\"data/Planetoid\",name='Cora',transform=NormalizeFeatures())\n",
    "data=dataset[0]\n",
    "print(dataset)\n",
    "print(data)"
   ]
  },
  {
   "cell_type": "code",
   "execution_count": 23,
   "id": "e86991e2",
   "metadata": {},
   "outputs": [
    {
     "name": "stdout",
     "output_type": "stream",
     "text": [
      "GCN(\n",
      "  (conv1): GCNConv(1433, 64)\n",
      "  (conv2): GCNConv(64, 7)\n",
      "  (dp): Dropout(p=0.5, inplace=False)\n",
      ")\n",
      "92231\n"
     ]
    }
   ],
   "source": [
    "import torch.nn as nn\n",
    "from torch_geometric.nn import GCNConv\n",
    "\n",
    "class GCN(nn.Module):\n",
    "    def __init__(self,output_channels=7):\n",
    "        super(GCN,self).__init__()\n",
    "        self.conv1=GCNConv(1433,64)\n",
    "        self.conv2=GCNConv(64,output_channels)\n",
    "\n",
    "        self.dp=nn.Dropout(p=0.5)\n",
    "\n",
    "    def forward(self,x,edge_index):\n",
    "        x=self.conv1(x,edge_index)\n",
    "        x=F.relu(x)\n",
    "\n",
    "        x=self.dp(x)\n",
    "\n",
    "        return x\n",
    "    \n",
    "\n",
    "model=GCN()\n",
    "print(model)\n",
    "\n",
    "total_params=sum(p.numel() for p in model.parameters() if p.requires_grad)\n",
    "print(total_params)"
   ]
  },
  {
   "cell_type": "code",
   "execution_count": 24,
   "id": "22bd8f92",
   "metadata": {},
   "outputs": [
    {
     "name": "stdout",
     "output_type": "stream",
     "text": [
      "Epoch 000  Loss 4.1583  Train Acc 0.0286  Test Acc 0.2530\n",
      "Epoch 010  Loss 3.9941  Train Acc 0.4929  Test Acc 0.5620\n",
      "Epoch 020  Loss 3.7906  Train Acc 0.5714  Test Acc 0.6000\n",
      "Epoch 030  Loss 3.6173  Train Acc 0.5786  Test Acc 0.6120\n",
      "Epoch 040  Loss 3.5548  Train Acc 0.5000  Test Acc 0.6210\n",
      "Epoch 050  Loss 3.3784  Train Acc 0.5143  Test Acc 0.6470\n",
      "Epoch 060  Loss 3.2690  Train Acc 0.5143  Test Acc 0.6670\n",
      "Epoch 070  Loss 3.1924  Train Acc 0.5000  Test Acc 0.6800\n",
      "Epoch 080  Loss 2.9517  Train Acc 0.5571  Test Acc 0.6990\n",
      "Epoch 090  Loss 2.8610  Train Acc 0.5643  Test Acc 0.7100\n",
      "Epoch 100  Loss 3.0477  Train Acc 0.4714  Test Acc 0.7220\n",
      "Epoch 110  Loss 2.8057  Train Acc 0.5357  Test Acc 0.7380\n",
      "Epoch 120  Loss 2.9254  Train Acc 0.4786  Test Acc 0.7450\n",
      "Epoch 130  Loss 2.6574  Train Acc 0.5500  Test Acc 0.7470\n",
      "Epoch 140  Loss 2.5987  Train Acc 0.5500  Test Acc 0.7440\n",
      "Epoch 150  Loss 2.8462  Train Acc 0.4786  Test Acc 0.7440\n",
      "Epoch 160  Loss 2.8058  Train Acc 0.4643  Test Acc 0.7450\n",
      "Epoch 170  Loss 2.6028  Train Acc 0.5071  Test Acc 0.7460\n",
      "Epoch 180  Loss 2.4340  Train Acc 0.5500  Test Acc 0.7480\n",
      "Epoch 190  Loss 2.5391  Train Acc 0.5143  Test Acc 0.7540\n"
     ]
    }
   ],
   "source": [
    "import torch\n",
    "import torch.nn as nn\n",
    "import torch.optim as optim\n",
    "import torch.nn.functional as F\n",
    "\n",
    "device = torch.device('cuda' if torch.cuda.is_available() else 'cpu')\n",
    "model = model.to(device)\n",
    "data  = data.to(device)\n",
    "\n",
    "optimizer = optim.Adam(model.parameters(), lr=0.01, weight_decay=1e-5)\n",
    "criterion = nn.CrossEntropyLoss()\n",
    "\n",
    "for epoch in range(200):        \n",
    "    model.train()\n",
    "    optimizer.zero_grad()\n",
    "    out = model(data.x, data.edge_index)        \n",
    "    loss = criterion(out[data.train_mask], data.y[data.train_mask])\n",
    "    loss.backward()\n",
    "    optimizer.step()\n",
    "\n",
    "    with torch.no_grad():\n",
    "        pred = out.argmax(dim=1)\n",
    "        train_correct = (pred[data.train_mask] == data.y[data.train_mask]).sum()\n",
    "        train_acc = int(train_correct) / int(data.train_mask.sum())\n",
    "\n",
    "    model.eval()\n",
    "    with torch.no_grad():\n",
    "        out = model(data.x, data.edge_index)\n",
    "        pred = out.argmax(dim=1)\n",
    "        test_correct = (pred[data.test_mask] == data.y[data.test_mask]).sum()\n",
    "        test_acc = int(test_correct) / int(data.test_mask.sum())\n",
    "\n",
    "    if epoch % 10 == 0:\n",
    "        print(f'Epoch {epoch:03d}  Loss {loss:.4f}  Train Acc {train_acc:.4f}  Test Acc {test_acc:.4f}')"
   ]
  },
  {
   "cell_type": "code",
   "execution_count": 25,
   "id": "124c55b6",
   "metadata": {},
   "outputs": [
    {
     "name": "stdout",
     "output_type": "stream",
     "text": [
      "GAT(\n",
      "  (conv1): GATConv(1433, 64, heads=4)\n",
      "  (conv2): GATConv(64, 7, heads=1)\n",
      "  (dp): Dropout(p=0.5, inplace=False)\n",
      ")\n",
      "367893\n"
     ]
    }
   ],
   "source": [
    "import torch.nn as nn\n",
    "from torch_geometric.nn import GATConv\n",
    "class GAT(nn.Module):\n",
    "    def __init__(self,output_channels=7):\n",
    "        super(GAT,self).__init__()\n",
    "\n",
    "        self.conv1=GATConv(1433,64,heads=4,concat=False,negative_slope=0.4,dropout=0.2)\n",
    "        self.conv2=GATConv(64,output_channels,heads=1,concat=False,negative_slope=0.2,dropout=0.1)\n",
    "\n",
    "        self.dp=nn.Dropout(p=0.5)\n",
    "\n",
    "    def forward(self,x,edge_index):\n",
    "        x=F.relu(self.conv1(x,edge_index))\n",
    "\n",
    "        x=self.dp(self.conv2(x,edge_index))\n",
    "\n",
    "        return x\n",
    "\n",
    "model=GAT()\n",
    "print(model)\n",
    "\n",
    "total_params=sum(p.numel() for p in model.parameters() if p.requires_grad)\n",
    "print(total_params)\n",
    "\n",
    "\n",
    "\n"
   ]
  },
  {
   "cell_type": "code",
   "execution_count": 26,
   "id": "2e69906b",
   "metadata": {},
   "outputs": [
    {
     "name": "stdout",
     "output_type": "stream",
     "text": [
      "Epoch 000  Loss 1.9461  Train Acc 0.1714  Test Acc 0.0000\n",
      "Epoch 010  Loss 1.9457  Train Acc 0.2000  Test Acc 0.0000\n",
      "Epoch 020  Loss 1.9458  Train Acc 0.1929  Test Acc 0.0000\n",
      "Epoch 030  Loss 1.9459  Train Acc 0.2071  Test Acc 0.0000\n",
      "Epoch 040  Loss 1.9459  Train Acc 0.1429  Test Acc 0.0000\n",
      "Epoch 050  Loss 1.9456  Train Acc 0.1571  Test Acc 0.0000\n",
      "Epoch 060  Loss 1.9454  Train Acc 0.1786  Test Acc 0.0000\n",
      "Epoch 070  Loss 1.9455  Train Acc 0.1714  Test Acc 0.0000\n",
      "Epoch 080  Loss 1.9460  Train Acc 0.1429  Test Acc 0.0000\n",
      "Epoch 090  Loss 1.9457  Train Acc 0.1643  Test Acc 0.0000\n",
      "Epoch 100  Loss 1.9456  Train Acc 0.2000  Test Acc 0.0000\n",
      "Epoch 110  Loss 1.9455  Train Acc 0.1786  Test Acc 0.0000\n",
      "Epoch 120  Loss 1.9457  Train Acc 0.1429  Test Acc 0.0000\n",
      "Epoch 130  Loss 1.9456  Train Acc 0.1714  Test Acc 0.0000\n",
      "Epoch 140  Loss 1.9454  Train Acc 0.2214  Test Acc 0.0000\n",
      "Epoch 150  Loss 1.9457  Train Acc 0.1714  Test Acc 0.0000\n",
      "Epoch 160  Loss 1.9453  Train Acc 0.2000  Test Acc 0.0000\n",
      "Epoch 170  Loss 1.9457  Train Acc 0.2429  Test Acc 0.0000\n",
      "Epoch 180  Loss 1.9458  Train Acc 0.2071  Test Acc 0.0000\n",
      "Epoch 190  Loss 1.9454  Train Acc 0.2071  Test Acc 0.0000\n"
     ]
    }
   ],
   "source": [
    "import torch.optim as optim\n",
    "import torch.nn.functional as F\n",
    "\n",
    "devcie=torch.device(\"cuda:0\" if torch.cuda.is_available() else \"cpu\")\n",
    "\n",
    "model=model.to(device)\n",
    "opitmizer=optim.Adam(model.parameters(),lr=0.01,weight_decay=1e-5)\n",
    "criterion=nn.CrossEntropyLoss(reduction=\"mean\")\n",
    "\n",
    "data=data.to(device)\n",
    "\n",
    "for epoch in range(200):\n",
    "    model.train()\n",
    "    optimizer.zero_grad()\n",
    "    out=model(data.x,data.edge_index)\n",
    "    loss=criterion(out[data.train_mask],data.y[data.train_mask])\n",
    "    loss.backward()\n",
    "    optimizer.step()\n",
    "\n",
    "    with torch.no_grad():\n",
    "        pred=out.argmax(dim=1)\n",
    "        train_correct=(pred[data.train_mask]==data.y[data.train_mask]).sum()\n",
    "        train_acc=int(train_correct)/int(data.train_mask.sum())\n",
    "\n",
    "    model.eval()\n",
    "    with torch.no_grad():\n",
    "        out=model(data.x,data.edge_index)\n",
    "        pred=out.argmax(dim=1)\n",
    "        test_correct=(pred[data.test_mask]==data.y[data.test_mask]).sum()\n",
    "        test_acc=int(test_correct)//int(data.test_mask.sum())\n",
    "\n",
    "    if epoch%10==0:\n",
    "         print(f'Epoch {epoch:03d}  Loss {loss:.4f}  Train Acc {train_acc:.4f}  Test Acc {test_acc:.4f}')"
   ]
  },
  {
   "cell_type": "code",
   "execution_count": null,
   "id": "b20969aa",
   "metadata": {},
   "outputs": [],
   "source": []
  }
 ],
 "metadata": {
  "kernelspec": {
   "display_name": "GNN_pytorch",
   "language": "python",
   "name": "python3"
  },
  "language_info": {
   "codemirror_mode": {
    "name": "ipython",
    "version": 3
   },
   "file_extension": ".py",
   "mimetype": "text/x-python",
   "name": "python",
   "nbconvert_exporter": "python",
   "pygments_lexer": "ipython3",
   "version": "3.8.20"
  }
 },
 "nbformat": 4,
 "nbformat_minor": 5
}
